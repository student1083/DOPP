{
 "cells": [
  {
   "cell_type": "markdown",
   "id": "2b8ea936",
   "metadata": {},
   "source": [
    "# Endangered Birds and Fish Lab Notebook"
   ]
  },
  {
   "cell_type": "code",
   "execution_count": 1,
   "id": "537fce24",
   "metadata": {},
   "outputs": [],
   "source": [
    "import numpy as np\n",
    "import pandas as pd\n",
    "import matplotlib.pyplot as plt\n",
    "import seaborn as sns\n",
    "from scipy.optimize import curve_fit\n",
    "sns.set()\n",
    "%matplotlib inline"
   ]
  },
  {
   "cell_type": "markdown",
   "id": "dcfc3975",
   "metadata": {},
   "source": [
    "# Choosing and finding the datasets:\n",
    "\n",
    "\n",
    "Our project started by a dataset research. At the beginning of this research our question was just about endangered species in general. But as it was difficult to find good datasets in such a broad sense, we decided to be more precise with our question and to concentrate on endangered birds and fish. For this specific topic we found a dataset which included the historical development of endangered birds and fish. Additionally we found a dataset for the current numbers divided by different countries. Furthermore we found datasets with different regional, geographical, natural and environmental characteristics. With this datasets we will be able to have a look at how geographical, natural and environmental characteristics incluence a higher percentage of endangered birds and fish. Furthermore we found datasets for specific countries which also includes historical data. We will use this one to try to predict the numbers of endangered birds and fish there. At the end we will see if all the resulsts are consistent with each other.\n",
    "\n",
    "Despite the fact that we have changed our question to make it more concrete, answearing these questions will give an overview in general and a deeper insight in the population of birds and fish. It will be interesting to see how the numbers are effected by geographical, natural and environmental characteristics as well as how the numbers have changed in total over the last years."
   ]
  },
  {
   "cell_type": "markdown",
   "id": "3484d182",
   "metadata": {},
   "source": [
    "# Questions which we want to answer:\n",
    "##### - How has the population of endangered birds and fish has evolved over time and what are the current numbers in different regions?\n",
    "##### - Which geographical, natural and environmental characteristics predict a higher percentage of endangered birds and fish in a country?\n",
    "##### - "
   ]
  },
  {
   "cell_type": "markdown",
   "id": "cc6bd4b9",
   "metadata": {},
   "source": [
    "Let's start with the first Question."
   ]
  },
  {
   "cell_type": "markdown",
   "id": "dc96545c",
   "metadata": {},
   "source": [
    "# Question 1: How has the population of endangered birds and fish has evolved over time and what are the current numbers in different regions?"
   ]
  },
  {
   "cell_type": "markdown",
   "id": "41d4177d",
   "metadata": {},
   "source": [
    "Main contributor: Martina Aschauer"
   ]
  },
  {
   "cell_type": "markdown",
   "id": "f4cfbd4f",
   "metadata": {},
   "source": [
    "#### How will we obtain the answears to this question?\n",
    "We will answer this question by dividing it in two parts. The first part is about the overall historical development of endangered birds and fish. Therefore we will use a dataset with the historical total numbers of birds and fish worldwide and we will visualise these numbers. With this first part we will gain an overall insight on the developments in this areas and we will also get a reason for why this topic is important. In the second part of this question we will use another dataset, which includes the current numbers of different regions. With this dataset we will try to visualise the difference of the percentage of endangered birds and fish in different regions. The hope with this task is to see in which areas are more endangered birds and fish."
   ]
  },
  {
   "cell_type": "markdown",
   "id": "18c06509",
   "metadata": {},
   "source": [
    "We will divide this questions in two parts. The first part is tackling the question about the changes over time and the second part about the current numbers. Therefore we will use three datasets.\n",
    "\n",
    "##### Dataset IUCN_table_2.csv\n",
    "https://www.iucnredlist.org/resources/summary-statistics\n",
    "The dataset is from the IUCN Red list of threatened species website. IUCN stands for International Union of Conservation. Here the number of species listed in each Red List Category is changing every time, the Red List is updated. These numbers are changing over time because:\n",
    "- species are constantly being assessed and added to the IUCN Red List for the first time\n",
    "- other species are being reassessed resulting in some moving into different Red List Categories\n",
    "- taxonomic revisions result in the total number of recognised species within a group changing\n",
    "Additionally to species changing their status, the IUCN Red List grows larger with each update as newly described species and species from the less well-known groups are assessed for the first time. IUCN and it's partners are working to expand the number of taxonomic groups that have full and complete Red List assessments in order to improve our knowledge of the status of the world's biodiversity. Therefore one has to be careful when looking at the numbers of species in each Red List Category. it gives a quite good snapshot of the current status of species, but it should not be interpreted as a full and complete assessment of the world's biodiversity.\n",
    "\n",
    "The summary table we used is based on absolute numbers of how many species are Critically Endangered (CR), Endangered (EN) or Vulnerable (VU). It is also divided into Categories like Birds, Fish, etc. This dataset here includes the changes in numbers of species in the threatened categories (CR, EN, VU) from 1996 to 2021. Some years like 2005 are missing in this dataset, but the reason for that is not mentioned on the website. Maybe it was due to an missing update because of any reason.\n",
    "\n",
    "\n",
    "##### Dataset WILD_LIFE.csv\n",
    "https://stats.oecd.org/Index.aspx?DataSetCode=WILD_LIFE\n",
    "This dataset is from the OECD Website. OECD stands for Organisation for economic co-operation and development and it consists of 38 member states at the moment. Not every member state has been one of its initial member states, some countries joined later like Poland in 1996. As we are just looking at the current numbers of 2021 and not at an historical development with this dataset, we don't have to think about which country joined the OECD in which year. \n",
    "\n",
    "The data is built on country replies to the Annual Quality Assurance of OECD environmental reference series. These data are harmonised, updated and revised from the OECD. Some countries report data according to their national classification, others report their national red list data and others IUCN Red List data. When interpreting these data, it should be borne in mind that the number of species known does not always accurately reflect the number of species in extistence and that varying definitions can limit comparability accross countries.\n",
    "\n",
    "This dataset includes different species, their total numbers (divided in Categories like Critically Endangered (CR), Endangered (EN) or Vulnerable (VU)) and their relative numbers by country. Reporting the proportion of threatened species on The IUCN Red List is complicated by the fact that not all species groups have been fully evaluated, and also by the fact that some species have so little information available that they can only be assessed as Data Deficient (DD). \n",
    "\n",
    "But to be able to compare the data by country and region we used relative numbers which told us for example what the percentage of threatened birds in one country is. This is a more reliable way of comparing the numbers of different countries.\n",
    "\n",
    "\n",
    "\n",
    "##### Dataset countryContinent.csv\n",
    "https://www.kaggle.com/statchaitya/country-to-continent\n",
    "This Dataset is just kind of a mapping table from the country names or country codes to the right continent or sub region of a continent. It includes every country (and it's continent) which is in the WILD_LIFE.csv dataset. Therefore we were able to use it to get different insights on how the current numbers of threatened birds and fish are in different continents, sub regions and countries.\n",
    "\n"
   ]
  },
  {
   "cell_type": "markdown",
   "id": "10166627",
   "metadata": {},
   "source": [
    "## Historical Development"
   ]
  },
  {
   "cell_type": "markdown",
   "id": "e2e1e45c",
   "metadata": {},
   "source": [
    "As our question is about birds and fish, we start by looking at how the numbers of vulnerable, endangered and critically endangered birds and fish developed over time. In this dataset there are no missing values. You can just see that some years like 2005 are missing. The reason for the missing years is unknown, but maybe it was due to an missing update of the datasets. But as the missing years are just at the beginning of this time series, we will get a good overview anyway."
   ]
  },
  {
   "cell_type": "code",
   "execution_count": 2,
   "id": "d27ccf07",
   "metadata": {},
   "outputs": [
    {
     "data": {
      "text/html": [
       "<div>\n",
       "<style scoped>\n",
       "    .dataframe tbody tr th:only-of-type {\n",
       "        vertical-align: middle;\n",
       "    }\n",
       "\n",
       "    .dataframe tbody tr th {\n",
       "        vertical-align: top;\n",
       "    }\n",
       "\n",
       "    .dataframe thead th {\n",
       "        text-align: right;\n",
       "    }\n",
       "</style>\n",
       "<table border=\"1\" class=\"dataframe\">\n",
       "  <thead>\n",
       "    <tr style=\"text-align: right;\">\n",
       "      <th></th>\n",
       "      <th>Birds_CR</th>\n",
       "      <th>Fishes_CR</th>\n",
       "      <th>Birds_ER</th>\n",
       "      <th>Fishes_ER</th>\n",
       "      <th>Birds_VU</th>\n",
       "      <th>Fishes_VU</th>\n",
       "    </tr>\n",
       "    <tr>\n",
       "      <th>Year</th>\n",
       "      <th></th>\n",
       "      <th></th>\n",
       "      <th></th>\n",
       "      <th></th>\n",
       "      <th></th>\n",
       "      <th></th>\n",
       "    </tr>\n",
       "  </thead>\n",
       "  <tbody>\n",
       "    <tr>\n",
       "      <th>1998</th>\n",
       "      <td>168</td>\n",
       "      <td>157</td>\n",
       "      <td>235</td>\n",
       "      <td>134</td>\n",
       "      <td>704</td>\n",
       "      <td>443</td>\n",
       "    </tr>\n",
       "    <tr>\n",
       "      <th>2000</th>\n",
       "      <td>182</td>\n",
       "      <td>156</td>\n",
       "      <td>321</td>\n",
       "      <td>144</td>\n",
       "      <td>680</td>\n",
       "      <td>452</td>\n",
       "    </tr>\n",
       "    <tr>\n",
       "      <th>2002</th>\n",
       "      <td>182</td>\n",
       "      <td>157</td>\n",
       "      <td>326</td>\n",
       "      <td>143</td>\n",
       "      <td>684</td>\n",
       "      <td>442</td>\n",
       "    </tr>\n",
       "    <tr>\n",
       "      <th>2003</th>\n",
       "      <td>182</td>\n",
       "      <td>162</td>\n",
       "      <td>331</td>\n",
       "      <td>144</td>\n",
       "      <td>681</td>\n",
       "      <td>444</td>\n",
       "    </tr>\n",
       "    <tr>\n",
       "      <th>2004</th>\n",
       "      <td>179</td>\n",
       "      <td>171</td>\n",
       "      <td>345</td>\n",
       "      <td>160</td>\n",
       "      <td>688</td>\n",
       "      <td>470</td>\n",
       "    </tr>\n",
       "    <tr>\n",
       "      <th>2006</th>\n",
       "      <td>181</td>\n",
       "      <td>253</td>\n",
       "      <td>351</td>\n",
       "      <td>237</td>\n",
       "      <td>674</td>\n",
       "      <td>681</td>\n",
       "    </tr>\n",
       "    <tr>\n",
       "      <th>2007</th>\n",
       "      <td>189</td>\n",
       "      <td>254</td>\n",
       "      <td>356</td>\n",
       "      <td>254</td>\n",
       "      <td>672</td>\n",
       "      <td>693</td>\n",
       "    </tr>\n",
       "    <tr>\n",
       "      <th>2008</th>\n",
       "      <td>190</td>\n",
       "      <td>289</td>\n",
       "      <td>361</td>\n",
       "      <td>269</td>\n",
       "      <td>671</td>\n",
       "      <td>717</td>\n",
       "    </tr>\n",
       "    <tr>\n",
       "      <th>2009</th>\n",
       "      <td>192</td>\n",
       "      <td>306</td>\n",
       "      <td>362</td>\n",
       "      <td>298</td>\n",
       "      <td>669</td>\n",
       "      <td>810</td>\n",
       "    </tr>\n",
       "    <tr>\n",
       "      <th>2010</th>\n",
       "      <td>190</td>\n",
       "      <td>376</td>\n",
       "      <td>372</td>\n",
       "      <td>400</td>\n",
       "      <td>678</td>\n",
       "      <td>1075</td>\n",
       "    </tr>\n",
       "    <tr>\n",
       "      <th>2011</th>\n",
       "      <td>189</td>\n",
       "      <td>414</td>\n",
       "      <td>382</td>\n",
       "      <td>477</td>\n",
       "      <td>682</td>\n",
       "      <td>1137</td>\n",
       "    </tr>\n",
       "    <tr>\n",
       "      <th>2012</th>\n",
       "      <td>197</td>\n",
       "      <td>415</td>\n",
       "      <td>389</td>\n",
       "      <td>494</td>\n",
       "      <td>727</td>\n",
       "      <td>1149</td>\n",
       "    </tr>\n",
       "    <tr>\n",
       "      <th>2013</th>\n",
       "      <td>198</td>\n",
       "      <td>413</td>\n",
       "      <td>397</td>\n",
       "      <td>530</td>\n",
       "      <td>713</td>\n",
       "      <td>1167</td>\n",
       "    </tr>\n",
       "    <tr>\n",
       "      <th>2014</th>\n",
       "      <td>213</td>\n",
       "      <td>443</td>\n",
       "      <td>419</td>\n",
       "      <td>587</td>\n",
       "      <td>741</td>\n",
       "      <td>1192</td>\n",
       "    </tr>\n",
       "    <tr>\n",
       "      <th>2015</th>\n",
       "      <td>218</td>\n",
       "      <td>446</td>\n",
       "      <td>416</td>\n",
       "      <td>614</td>\n",
       "      <td>741</td>\n",
       "      <td>1211</td>\n",
       "    </tr>\n",
       "    <tr>\n",
       "      <th>2016</th>\n",
       "      <td>225</td>\n",
       "      <td>461</td>\n",
       "      <td>448</td>\n",
       "      <td>660</td>\n",
       "      <td>787</td>\n",
       "      <td>1238</td>\n",
       "    </tr>\n",
       "    <tr>\n",
       "      <th>2017</th>\n",
       "      <td>222</td>\n",
       "      <td>468</td>\n",
       "      <td>461</td>\n",
       "      <td>676</td>\n",
       "      <td>786</td>\n",
       "      <td>1242</td>\n",
       "    </tr>\n",
       "    <tr>\n",
       "      <th>2018</th>\n",
       "      <td>224</td>\n",
       "      <td>486</td>\n",
       "      <td>469</td>\n",
       "      <td>674</td>\n",
       "      <td>799</td>\n",
       "      <td>1172</td>\n",
       "    </tr>\n",
       "    <tr>\n",
       "      <th>2019</th>\n",
       "      <td>225</td>\n",
       "      <td>592</td>\n",
       "      <td>461</td>\n",
       "      <td>868</td>\n",
       "      <td>800</td>\n",
       "      <td>1214</td>\n",
       "    </tr>\n",
       "    <tr>\n",
       "      <th>2020</th>\n",
       "      <td>223</td>\n",
       "      <td>666</td>\n",
       "      <td>460</td>\n",
       "      <td>1036</td>\n",
       "      <td>798</td>\n",
       "      <td>1338</td>\n",
       "    </tr>\n",
       "    <tr>\n",
       "      <th>2021</th>\n",
       "      <td>225</td>\n",
       "      <td>739</td>\n",
       "      <td>447</td>\n",
       "      <td>1139</td>\n",
       "      <td>773</td>\n",
       "      <td>1454</td>\n",
       "    </tr>\n",
       "  </tbody>\n",
       "</table>\n",
       "</div>"
      ],
      "text/plain": [
       "      Birds_CR  Fishes_CR  Birds_ER  Fishes_ER  Birds_VU  Fishes_VU\n",
       "Year                                                               \n",
       "1998       168        157       235        134       704        443\n",
       "2000       182        156       321        144       680        452\n",
       "2002       182        157       326        143       684        442\n",
       "2003       182        162       331        144       681        444\n",
       "2004       179        171       345        160       688        470\n",
       "2006       181        253       351        237       674        681\n",
       "2007       189        254       356        254       672        693\n",
       "2008       190        289       361        269       671        717\n",
       "2009       192        306       362        298       669        810\n",
       "2010       190        376       372        400       678       1075\n",
       "2011       189        414       382        477       682       1137\n",
       "2012       197        415       389        494       727       1149\n",
       "2013       198        413       397        530       713       1167\n",
       "2014       213        443       419        587       741       1192\n",
       "2015       218        446       416        614       741       1211\n",
       "2016       225        461       448        660       787       1238\n",
       "2017       222        468       461        676       786       1242\n",
       "2018       224        486       469        674       799       1172\n",
       "2019       225        592       461        868       800       1214\n",
       "2020       223        666       460       1036       798       1338\n",
       "2021       225        739       447       1139       773       1454"
      ]
     },
     "execution_count": 2,
     "metadata": {},
     "output_type": "execute_result"
    }
   ],
   "source": [
    "df_history = pd.read_csv(\"data/IUCN_table_2.csv\", sep=';')\n",
    "df_history.set_index('Year')"
   ]
  },
  {
   "cell_type": "code",
   "execution_count": 3,
   "id": "99b15383",
   "metadata": {},
   "outputs": [],
   "source": [
    "df_history_birds = df_history[[\"Year\", \"Birds_CR\", \"Birds_ER\", \"Birds_VU\"]].set_index('Year')\n",
    "df_history_fish = df_history[[\"Year\", \"Fishes_CR\", \"Fishes_ER\", \"Fishes_VU\"]].set_index('Year')"
   ]
  },
  {
   "cell_type": "code",
   "execution_count": 4,
   "id": "441fe102",
   "metadata": {},
   "outputs": [
    {
     "data": {
      "image/png": "[encoded data removed]",
      "text/plain": [
       "<Figure size 432x288 with 1 Axes>"
      ]
     },
     "metadata": {
      "needs_background": "light"
     },
     "output_type": "display_data"
    },
    {
     "data": {
      "image/png": "[encoded data removed]",
      "text/plain": [
       "<Figure size 432x288 with 1 Axes>"
      ]
     },
     "metadata": {
      "needs_background": "light"
     },
     "output_type": "display_data"
    }
   ],
   "source": [
    "sns.lineplot(data=df_history_birds).set(title=\"Development of Vulnerable, Endangered and critically Endangered Birds\")\n",
    "plt.xlabel(\"Year\")\n",
    "plt.ylabel(\"Numbers of Species\")\n",
    "plt.legend(loc=\"upper right\")\n",
    "plt.show()\n",
    "\n",
    "sns.lineplot(data=df_history_fish).set(title=\"Development of Vulnerable, Endangered and critically Endangered Fish\")\n",
    "plt.xlabel(\"Year\")\n",
    "plt.ylabel(\"Numbers of Species\")\n",
    "plt.legend(loc=\"upper right\")\n",
    "plt.show()"
   ]
  },
  {
   "cell_type": "markdown",
   "id": "04686216",
   "metadata": {},
   "source": [
    "##### Interpretation of the Results:\n",
    "\n",
    "These graphs illustrate how threatened birds and fish has evolved over time. Especially when looking at the fish data we can see, that the number of threatened fish has increased a lot over the last years. In Contrast to that, birds did not change so dramatically over time. But as mentioned in the description of the dataset, a higher number of threatened species could also be a result of assessing more species. Therefore we can't trust the numbers fully. But it is good to get a feeling of how the numbers are changing."
   ]
  },
  {
   "cell_type": "markdown",
   "id": "7fdb41a3",
   "metadata": {},
   "source": [
    "## Current numbers"
   ]
  },
  {
   "cell_type": "markdown",
   "id": "0f0f905e",
   "metadata": {},
   "source": [
    "Now let's take a closer look at the current numbers of endangered birds and fish. We have already seen how the numbers have evolved over time, regarding worldwide numbers. In this step we want to have a look at the relative numbers from the OECD and what the percentages of all birds an fish are endangered. We decided to compare the relative numbers per country/region/continent as total numbers would not be consistent for this comparison. Some countries have more different kinds of birds of fish than others, so they would probably have a higher total number of endangered birds and fish too. Although the percentage of endangerd birds to the total number would be smaller than in an other country. Therefore we choose the relative numbers to be able to make a good comparison."
   ]
  },
  {
   "cell_type": "code",
   "execution_count": 5,
   "id": "1765deff",
   "metadata": {},
   "outputs": [],
   "source": [
    "df = pd.read_csv(\"data/WILD_LIFE.csv\")"
   ]
  },
  {
   "cell_type": "code",
   "execution_count": 6,
   "id": "9cf841d7",
   "metadata": {},
   "outputs": [
    {
     "data": {
      "text/html": [
       "<div>\n",
       "<style scoped>\n",
       "    .dataframe tbody tr th:only-of-type {\n",
       "        vertical-align: middle;\n",
       "    }\n",
       "\n",
       "    .dataframe tbody tr th {\n",
       "        vertical-align: top;\n",
       "    }\n",
       "\n",
       "    .dataframe thead th {\n",
       "        text-align: right;\n",
       "    }\n",
       "</style>\n",
       "<table border=\"1\" class=\"dataframe\">\n",
       "  <thead>\n",
       "    <tr style=\"text-align: right;\">\n",
       "      <th></th>\n",
       "      <th>IUCN</th>\n",
       "      <th>IUCN Category</th>\n",
       "      <th>SPEC</th>\n",
       "      <th>Species</th>\n",
       "      <th>COU</th>\n",
       "      <th>Country</th>\n",
       "      <th>Unit Code</th>\n",
       "      <th>Unit</th>\n",
       "      <th>PowerCode Code</th>\n",
       "      <th>PowerCode</th>\n",
       "      <th>Reference Period Code</th>\n",
       "      <th>Reference Period</th>\n",
       "      <th>Value</th>\n",
       "      <th>Flag Codes</th>\n",
       "      <th>Flags</th>\n",
       "    </tr>\n",
       "  </thead>\n",
       "  <tbody>\n",
       "    <tr>\n",
       "      <th>0</th>\n",
       "      <td>TOT_KNOWN</td>\n",
       "      <td>Total number of known species</td>\n",
       "      <td>MAMMAL</td>\n",
       "      <td>Mammals</td>\n",
       "      <td>AUS</td>\n",
       "      <td>Australia</td>\n",
       "      <td>NBR</td>\n",
       "      <td>Number</td>\n",
       "      <td>0</td>\n",
       "      <td>Units</td>\n",
       "      <td>NaN</td>\n",
       "      <td>NaN</td>\n",
       "      <td>380.0</td>\n",
       "      <td>NaN</td>\n",
       "      <td>NaN</td>\n",
       "    </tr>\n",
       "    <tr>\n",
       "      <th>1</th>\n",
       "      <td>TOT_KNOWN_IND</td>\n",
       "      <td>Total number of indigenous known species</td>\n",
       "      <td>MAMMAL</td>\n",
       "      <td>Mammals</td>\n",
       "      <td>AUS</td>\n",
       "      <td>Australia</td>\n",
       "      <td>NBR</td>\n",
       "      <td>Number</td>\n",
       "      <td>0</td>\n",
       "      <td>Units</td>\n",
       "      <td>NaN</td>\n",
       "      <td>NaN</td>\n",
       "      <td>353.0</td>\n",
       "      <td>NaN</td>\n",
       "      <td>NaN</td>\n",
       "    </tr>\n",
       "    <tr>\n",
       "      <th>2</th>\n",
       "      <td>ENDANGERED</td>\n",
       "      <td>Number of endangered species</td>\n",
       "      <td>MAMMAL</td>\n",
       "      <td>Mammals</td>\n",
       "      <td>AUS</td>\n",
       "      <td>Australia</td>\n",
       "      <td>NBR</td>\n",
       "      <td>Number</td>\n",
       "      <td>0</td>\n",
       "      <td>Units</td>\n",
       "      <td>NaN</td>\n",
       "      <td>NaN</td>\n",
       "      <td>38.0</td>\n",
       "      <td>NaN</td>\n",
       "      <td>NaN</td>\n",
       "    </tr>\n",
       "    <tr>\n",
       "      <th>3</th>\n",
       "      <td>CRITICAL</td>\n",
       "      <td>Number of critically endangered species</td>\n",
       "      <td>MAMMAL</td>\n",
       "      <td>Mammals</td>\n",
       "      <td>AUS</td>\n",
       "      <td>Australia</td>\n",
       "      <td>NBR</td>\n",
       "      <td>Number</td>\n",
       "      <td>0</td>\n",
       "      <td>Units</td>\n",
       "      <td>NaN</td>\n",
       "      <td>NaN</td>\n",
       "      <td>10.0</td>\n",
       "      <td>NaN</td>\n",
       "      <td>NaN</td>\n",
       "    </tr>\n",
       "    <tr>\n",
       "      <th>4</th>\n",
       "      <td>VULNERABLE</td>\n",
       "      <td>Number of vulnerable species</td>\n",
       "      <td>MAMMAL</td>\n",
       "      <td>Mammals</td>\n",
       "      <td>AUS</td>\n",
       "      <td>Australia</td>\n",
       "      <td>NBR</td>\n",
       "      <td>Number</td>\n",
       "      <td>0</td>\n",
       "      <td>Units</td>\n",
       "      <td>NaN</td>\n",
       "      <td>NaN</td>\n",
       "      <td>59.0</td>\n",
       "      <td>NaN</td>\n",
       "      <td>NaN</td>\n",
       "    </tr>\n",
       "  </tbody>\n",
       "</table>\n",
       "</div>"
      ],
      "text/plain": [
       "            IUCN                             IUCN Category    SPEC  Species  \\\n",
       "0      TOT_KNOWN             Total number of known species  MAMMAL  Mammals   \n",
       "1  TOT_KNOWN_IND  Total number of indigenous known species  MAMMAL  Mammals   \n",
       "2     ENDANGERED              Number of endangered species  MAMMAL  Mammals   \n",
       "3       CRITICAL   Number of critically endangered species  MAMMAL  Mammals   \n",
       "4     VULNERABLE              Number of vulnerable species  MAMMAL  Mammals   \n",
       "\n",
       "   COU    Country Unit Code    Unit  PowerCode Code PowerCode  \\\n",
       "0  AUS  Australia       NBR  Number               0     Units   \n",
       "1  AUS  Australia       NBR  Number               0     Units   \n",
       "2  AUS  Australia       NBR  Number               0     Units   \n",
       "3  AUS  Australia       NBR  Number               0     Units   \n",
       "4  AUS  Australia       NBR  Number               0     Units   \n",
       "\n",
       "   Reference Period Code  Reference Period  Value Flag Codes Flags  \n",
       "0                    NaN               NaN  380.0        NaN   NaN  \n",
       "1                    NaN               NaN  353.0        NaN   NaN  \n",
       "2                    NaN               NaN   38.0        NaN   NaN  \n",
       "3                    NaN               NaN   10.0        NaN   NaN  \n",
       "4                    NaN               NaN   59.0        NaN   NaN  "
      ]
     },
     "execution_count": 6,
     "metadata": {},
     "output_type": "execute_result"
    }
   ],
   "source": [
    "df.head()"
   ]
  },
  {
   "cell_type": "markdown",
   "id": "38691d8f",
   "metadata": {},
   "source": [
    "In this dataset you also see a lot of Nan, but as they are just in columns which we do not need we can just ignore them."
   ]
  },
  {
   "cell_type": "markdown",
   "id": "b638e0a0",
   "metadata": {},
   "source": [
    "At first we take a look at which species are contained in this dataset and what IUCN Categories are included. Afterwards we can concentrate on Birds and Fish."
   ]
  },
  {
   "cell_type": "code",
   "execution_count": 7,
   "id": "eb73d63d",
   "metadata": {},
   "outputs": [
    {
     "data": {
      "text/plain": [
       "array(['Mammals', 'Birds', 'Reptiles', 'Amphibians', 'Vascular plants',\n",
       "       'Fish', 'Marine Fish', 'Freshwater Fish', 'Mosses', 'Lichens',\n",
       "       'Invertebrates'], dtype=object)"
      ]
     },
     "execution_count": 7,
     "metadata": {},
     "output_type": "execute_result"
    }
   ],
   "source": [
    "df[\"Species\"].unique()"
   ]
  },
  {
   "cell_type": "code",
   "execution_count": 8,
   "id": "7b572079",
   "metadata": {},
   "outputs": [
    {
     "data": {
      "text/plain": [
       "array(['TOT_KNOWN', 'TOT_KNOWN_IND', 'ENDANGERED', 'CRITICAL',\n",
       "       'VULNERABLE', 'THREATENED', 'ENDANGERED_IND', 'CRITICAL_IND',\n",
       "       'VULNERABLE_IND', 'THREAT_PERCENT', 'THREATENED_IND',\n",
       "       'IND_PERCENT'], dtype=object)"
      ]
     },
     "execution_count": 8,
     "metadata": {},
     "output_type": "execute_result"
    }
   ],
   "source": [
    "df[\"IUCN\"].unique()"
   ]
  },
  {
   "cell_type": "code",
   "execution_count": 9,
   "id": "f1582097",
   "metadata": {},
   "outputs": [
    {
     "data": {
      "text/plain": [
       "array(['Australia', 'Austria', 'Belgium', 'Canada', 'Czech Republic',\n",
       "       'Denmark', 'Finland', 'France', 'Germany', 'Greece', 'Hungary',\n",
       "       'Iceland', 'Ireland', 'Italy', 'Japan', 'Korea', 'Mexico',\n",
       "       'Netherlands', 'New Zealand', 'Norway', 'Poland', 'Portugal',\n",
       "       'Slovak Republic', 'Spain', 'Sweden', 'Switzerland', 'Turkey',\n",
       "       'United Kingdom', 'Chile', 'Estonia', 'Israel', 'Russia',\n",
       "       'Slovenia', 'Luxembourg', 'Colombia', 'Latvia', 'Brazil',\n",
       "       'Costa Rica', 'Lithuania'], dtype=object)"
      ]
     },
     "execution_count": 9,
     "metadata": {},
     "output_type": "execute_result"
    }
   ],
   "source": [
    "df[\"Country\"].unique()"
   ]
  },
  {
   "cell_type": "markdown",
   "id": "391629f7",
   "metadata": {},
   "source": [
    "To be able to also compare it in a more regional way we want to add which country is on which continent or area of a continent. "
   ]
  },
  {
   "cell_type": "code",
   "execution_count": 10,
   "id": "de969d7b",
   "metadata": {},
   "outputs": [],
   "source": [
    "df_continent = pd.read_csv(\"data/countryContinent.csv\",  sep=',', encoding = 'unicode_escape')"
   ]
  },
  {
   "cell_type": "code",
   "execution_count": 11,
   "id": "6ab9a822",
   "metadata": {},
   "outputs": [
    {
     "data": {
      "text/html": [
       "<div>\n",
       "<style scoped>\n",
       "    .dataframe tbody tr th:only-of-type {\n",
       "        vertical-align: middle;\n",
       "    }\n",
       "\n",
       "    .dataframe tbody tr th {\n",
       "        vertical-align: top;\n",
       "    }\n",
       "\n",
       "    .dataframe thead th {\n",
       "        text-align: right;\n",
       "    }\n",
       "</style>\n",
       "<table border=\"1\" class=\"dataframe\">\n",
       "  <thead>\n",
       "    <tr style=\"text-align: right;\">\n",
       "      <th></th>\n",
       "      <th>country</th>\n",
       "      <th>code_2</th>\n",
       "      <th>COU</th>\n",
       "      <th>country_code</th>\n",
       "      <th>iso_3166_2</th>\n",
       "      <th>continent</th>\n",
       "      <th>sub_region</th>\n",
       "      <th>region_code</th>\n",
       "      <th>sub_region_code</th>\n",
       "    </tr>\n",
       "  </thead>\n",
       "  <tbody>\n",
       "    <tr>\n",
       "      <th>0</th>\n",
       "      <td>Afghanistan</td>\n",
       "      <td>AF</td>\n",
       "      <td>AFG</td>\n",
       "      <td>4</td>\n",
       "      <td>ISO 3166-2:AF</td>\n",
       "      <td>Asia</td>\n",
       "      <td>Southern Asia</td>\n",
       "      <td>142.0</td>\n",
       "      <td>34.0</td>\n",
       "    </tr>\n",
       "    <tr>\n",
       "      <th>1</th>\n",
       "      <td>Åland Islands</td>\n",
       "      <td>AX</td>\n",
       "      <td>ALA</td>\n",
       "      <td>248</td>\n",
       "      <td>ISO 3166-2:AX</td>\n",
       "      <td>Europe</td>\n",
       "      <td>Northern Europe</td>\n",
       "      <td>150.0</td>\n",
       "      <td>154.0</td>\n",
       "    </tr>\n",
       "    <tr>\n",
       "      <th>2</th>\n",
       "      <td>Albania</td>\n",
       "      <td>AL</td>\n",
       "      <td>ALB</td>\n",
       "      <td>8</td>\n",
       "      <td>ISO 3166-2:AL</td>\n",
       "      <td>Europe</td>\n",
       "      <td>Southern Europe</td>\n",
       "      <td>150.0</td>\n",
       "      <td>39.0</td>\n",
       "    </tr>\n",
       "    <tr>\n",
       "      <th>3</th>\n",
       "      <td>Algeria</td>\n",
       "      <td>DZ</td>\n",
       "      <td>DZA</td>\n",
       "      <td>12</td>\n",
       "      <td>ISO 3166-2:DZ</td>\n",
       "      <td>Africa</td>\n",
       "      <td>Northern Africa</td>\n",
       "      <td>2.0</td>\n",
       "      <td>15.0</td>\n",
       "    </tr>\n",
       "    <tr>\n",
       "      <th>4</th>\n",
       "      <td>American Samoa</td>\n",
       "      <td>AS</td>\n",
       "      <td>ASM</td>\n",
       "      <td>16</td>\n",
       "      <td>ISO 3166-2:AS</td>\n",
       "      <td>Oceania</td>\n",
       "      <td>Polynesia</td>\n",
       "      <td>9.0</td>\n",
       "      <td>61.0</td>\n",
       "    </tr>\n",
       "  </tbody>\n",
       "</table>\n",
       "</div>"
      ],
      "text/plain": [
       "          country code_2  COU  country_code     iso_3166_2 continent  \\\n",
       "0     Afghanistan     AF  AFG             4  ISO 3166-2:AF      Asia   \n",
       "1   Åland Islands     AX  ALA           248  ISO 3166-2:AX    Europe   \n",
       "2         Albania     AL  ALB             8  ISO 3166-2:AL    Europe   \n",
       "3         Algeria     DZ  DZA            12  ISO 3166-2:DZ    Africa   \n",
       "4  American Samoa     AS  ASM            16  ISO 3166-2:AS   Oceania   \n",
       "\n",
       "        sub_region  region_code  sub_region_code  \n",
       "0    Southern Asia        142.0             34.0  \n",
       "1  Northern Europe        150.0            154.0  \n",
       "2  Southern Europe        150.0             39.0  \n",
       "3  Northern Africa          2.0             15.0  \n",
       "4        Polynesia          9.0             61.0  "
      ]
     },
     "execution_count": 11,
     "metadata": {},
     "output_type": "execute_result"
    }
   ],
   "source": [
    "df_continent.rename(columns={\"code_3\": \"COU\"}, inplace=True)\n",
    "df_continent.head()"
   ]
  },
  {
   "cell_type": "code",
   "execution_count": 12,
   "id": "127efbce",
   "metadata": {},
   "outputs": [],
   "source": [
    "df_incl_continent = pd.merge(df, df_continent, on=\"COU\")"
   ]
  },
  {
   "cell_type": "code",
   "execution_count": 13,
   "id": "afcd1a68",
   "metadata": {},
   "outputs": [
    {
     "data": {
      "text/html": [
       "<div>\n",
       "<style scoped>\n",
       "    .dataframe tbody tr th:only-of-type {\n",
       "        vertical-align: middle;\n",
       "    }\n",
       "\n",
       "    .dataframe tbody tr th {\n",
       "        vertical-align: top;\n",
       "    }\n",
       "\n",
       "    .dataframe thead th {\n",
       "        text-align: right;\n",
       "    }\n",
       "</style>\n",
       "<table border=\"1\" class=\"dataframe\">\n",
       "  <thead>\n",
       "    <tr style=\"text-align: right;\">\n",
       "      <th></th>\n",
       "      <th>IUCN</th>\n",
       "      <th>IUCN Category</th>\n",
       "      <th>SPEC</th>\n",
       "      <th>Species</th>\n",
       "      <th>COU</th>\n",
       "      <th>Country</th>\n",
       "      <th>Unit Code</th>\n",
       "      <th>Unit</th>\n",
       "      <th>PowerCode Code</th>\n",
       "      <th>PowerCode</th>\n",
       "      <th>...</th>\n",
       "      <th>Flag Codes</th>\n",
       "      <th>Flags</th>\n",
       "      <th>country</th>\n",
       "      <th>code_2</th>\n",
       "      <th>country_code</th>\n",
       "      <th>iso_3166_2</th>\n",
       "      <th>continent</th>\n",
       "      <th>sub_region</th>\n",
       "      <th>region_code</th>\n",
       "      <th>sub_region_code</th>\n",
       "    </tr>\n",
       "  </thead>\n",
       "  <tbody>\n",
       "    <tr>\n",
       "      <th>0</th>\n",
       "      <td>TOT_KNOWN</td>\n",
       "      <td>Total number of known species</td>\n",
       "      <td>MAMMAL</td>\n",
       "      <td>Mammals</td>\n",
       "      <td>AUS</td>\n",
       "      <td>Australia</td>\n",
       "      <td>NBR</td>\n",
       "      <td>Number</td>\n",
       "      <td>0</td>\n",
       "      <td>Units</td>\n",
       "      <td>...</td>\n",
       "      <td>NaN</td>\n",
       "      <td>NaN</td>\n",
       "      <td>Australia</td>\n",
       "      <td>AU</td>\n",
       "      <td>36</td>\n",
       "      <td>ISO 3166-2:AU</td>\n",
       "      <td>Oceania</td>\n",
       "      <td>Australia and New Zealand</td>\n",
       "      <td>9.0</td>\n",
       "      <td>53.0</td>\n",
       "    </tr>\n",
       "    <tr>\n",
       "      <th>1</th>\n",
       "      <td>TOT_KNOWN_IND</td>\n",
       "      <td>Total number of indigenous known species</td>\n",
       "      <td>MAMMAL</td>\n",
       "      <td>Mammals</td>\n",
       "      <td>AUS</td>\n",
       "      <td>Australia</td>\n",
       "      <td>NBR</td>\n",
       "      <td>Number</td>\n",
       "      <td>0</td>\n",
       "      <td>Units</td>\n",
       "      <td>...</td>\n",
       "      <td>NaN</td>\n",
       "      <td>NaN</td>\n",
       "      <td>Australia</td>\n",
       "      <td>AU</td>\n",
       "      <td>36</td>\n",
       "      <td>ISO 3166-2:AU</td>\n",
       "      <td>Oceania</td>\n",
       "      <td>Australia and New Zealand</td>\n",
       "      <td>9.0</td>\n",
       "      <td>53.0</td>\n",
       "    </tr>\n",
       "    <tr>\n",
       "      <th>2</th>\n",
       "      <td>ENDANGERED</td>\n",
       "      <td>Number of endangered species</td>\n",
       "      <td>MAMMAL</td>\n",
       "      <td>Mammals</td>\n",
       "      <td>AUS</td>\n",
       "      <td>Australia</td>\n",
       "      <td>NBR</td>\n",
       "      <td>Number</td>\n",
       "      <td>0</td>\n",
       "      <td>Units</td>\n",
       "      <td>...</td>\n",
       "      <td>NaN</td>\n",
       "      <td>NaN</td>\n",
       "      <td>Australia</td>\n",
       "      <td>AU</td>\n",
       "      <td>36</td>\n",
       "      <td>ISO 3166-2:AU</td>\n",
       "      <td>Oceania</td>\n",
       "      <td>Australia and New Zealand</td>\n",
       "      <td>9.0</td>\n",
       "      <td>53.0</td>\n",
       "    </tr>\n",
       "    <tr>\n",
       "      <th>3</th>\n",
       "      <td>CRITICAL</td>\n",
       "      <td>Number of critically endangered species</td>\n",
       "      <td>MAMMAL</td>\n",
       "      <td>Mammals</td>\n",
       "      <td>AUS</td>\n",
       "      <td>Australia</td>\n",
       "      <td>NBR</td>\n",
       "      <td>Number</td>\n",
       "      <td>0</td>\n",
       "      <td>Units</td>\n",
       "      <td>...</td>\n",
       "      <td>NaN</td>\n",
       "      <td>NaN</td>\n",
       "      <td>Australia</td>\n",
       "      <td>AU</td>\n",
       "      <td>36</td>\n",
       "      <td>ISO 3166-2:AU</td>\n",
       "      <td>Oceania</td>\n",
       "      <td>Australia and New Zealand</td>\n",
       "      <td>9.0</td>\n",
       "      <td>53.0</td>\n",
       "    </tr>\n",
       "    <tr>\n",
       "      <th>4</th>\n",
       "      <td>VULNERABLE</td>\n",
       "      <td>Number of vulnerable species</td>\n",
       "      <td>MAMMAL</td>\n",
       "      <td>Mammals</td>\n",
       "      <td>AUS</td>\n",
       "      <td>Australia</td>\n",
       "      <td>NBR</td>\n",
       "      <td>Number</td>\n",
       "      <td>0</td>\n",
       "      <td>Units</td>\n",
       "      <td>...</td>\n",
       "      <td>NaN</td>\n",
       "      <td>NaN</td>\n",
       "      <td>Australia</td>\n",
       "      <td>AU</td>\n",
       "      <td>36</td>\n",
       "      <td>ISO 3166-2:AU</td>\n",
       "      <td>Oceania</td>\n",
       "      <td>Australia and New Zealand</td>\n",
       "      <td>9.0</td>\n",
       "      <td>53.0</td>\n",
       "    </tr>\n",
       "  </tbody>\n",
       "</table>\n",
       "<p>5 rows × 23 columns</p>\n",
       "</div>"
      ],
      "text/plain": [
       "            IUCN                             IUCN Category    SPEC  Species  \\\n",
       "0      TOT_KNOWN             Total number of known species  MAMMAL  Mammals   \n",
       "1  TOT_KNOWN_IND  Total number of indigenous known species  MAMMAL  Mammals   \n",
       "2     ENDANGERED              Number of endangered species  MAMMAL  Mammals   \n",
       "3       CRITICAL   Number of critically endangered species  MAMMAL  Mammals   \n",
       "4     VULNERABLE              Number of vulnerable species  MAMMAL  Mammals   \n",
       "\n",
       "   COU    Country Unit Code    Unit  PowerCode Code PowerCode  ...  \\\n",
       "0  AUS  Australia       NBR  Number               0     Units  ...   \n",
       "1  AUS  Australia       NBR  Number               0     Units  ...   \n",
       "2  AUS  Australia       NBR  Number               0     Units  ...   \n",
       "3  AUS  Australia       NBR  Number               0     Units  ...   \n",
       "4  AUS  Australia       NBR  Number               0     Units  ...   \n",
       "\n",
       "   Flag Codes  Flags    country code_2 country_code     iso_3166_2 continent  \\\n",
       "0         NaN    NaN  Australia     AU           36  ISO 3166-2:AU   Oceania   \n",
       "1         NaN    NaN  Australia     AU           36  ISO 3166-2:AU   Oceania   \n",
       "2         NaN    NaN  Australia     AU           36  ISO 3166-2:AU   Oceania   \n",
       "3         NaN    NaN  Australia     AU           36  ISO 3166-2:AU   Oceania   \n",
       "4         NaN    NaN  Australia     AU           36  ISO 3166-2:AU   Oceania   \n",
       "\n",
       "                  sub_region region_code sub_region_code  \n",
       "0  Australia and New Zealand         9.0            53.0  \n",
       "1  Australia and New Zealand         9.0            53.0  \n",
       "2  Australia and New Zealand         9.0            53.0  \n",
       "3  Australia and New Zealand         9.0            53.0  \n",
       "4  Australia and New Zealand         9.0            53.0  \n",
       "\n",
       "[5 rows x 23 columns]"
      ]
     },
     "execution_count": 13,
     "metadata": {},
     "output_type": "execute_result"
    }
   ],
   "source": [
    "df_incl_continent.head()"
   ]
  },
  {
   "cell_type": "code",
   "execution_count": 14,
   "id": "7e272c9b",
   "metadata": {},
   "outputs": [
    {
     "name": "stdout",
     "output_type": "stream",
     "text": [
      "Count of unique Countries in the original dataset: 39\n",
      "Count of unique Countries in the original dataset: 39\n"
     ]
    }
   ],
   "source": [
    "# check if every Country was mapped\n",
    "print(\"Count of unique Countries in the original dataset: {}\".format(len(df[\"Country\"].unique())))\n",
    "print(\"Count of unique Countries in the original dataset: {}\".format(len(df_incl_continent[\"Country\"].unique())))"
   ]
  },
  {
   "cell_type": "markdown",
   "id": "b06728a3",
   "metadata": {},
   "source": [
    "To get a feeling on the total numbers too we just take a look at the different boxplots."
   ]
  },
  {
   "cell_type": "code",
   "execution_count": 15,
   "id": "29b42c41",
   "metadata": {},
   "outputs": [
    {
     "data": {
      "image/png": "[encoded data removed]",
      "text/plain": [
       "<Figure size 360x360 with 1 Axes>"
      ]
     },
     "metadata": {
      "needs_background": "light"
     },
     "output_type": "display_data"
    },
    {
     "data": {
      "image/png": "[encoded data removed]",
      "text/plain": [
       "<Figure size 360x360 with 1 Axes>"
      ]
     },
     "metadata": {
      "needs_background": "light"
     },
     "output_type": "display_data"
    },
    {
     "data": {
      "image/png": "[encoded data removed]",
      "text/plain": [
       "<Figure size 360x360 with 1 Axes>"
      ]
     },
     "metadata": {
      "needs_background": "light"
     },
     "output_type": "display_data"
    },
    {
     "data": {
      "image/png": "[encoded data removed]",
      "text/plain": [
       "<Figure size 360x360 with 1 Axes>"
      ]
     },
     "metadata": {
      "needs_background": "light"
     },
     "output_type": "display_data"
    },
    {
     "data": {
      "image/png": "[encoded data removed]",
      "text/plain": [
       "<Figure size 360x360 with 1 Axes>"
      ]
     },
     "metadata": {
      "needs_background": "light"
     },
     "output_type": "display_data"
    }
   ],
   "source": [
    "# Boxplots for Birds\n",
    "\n",
    "plt.rcParams[\"figure.figsize\"] = (5,5)\n",
    "sns.boxplot(x=df_incl_continent[ (df_incl_continent.Species == 'Birds') & (df_incl_continent.IUCN == 'TOT_KNOWN')]['Value'], width=0.3, saturation=1).set(title=\"Boxplot for the total number of Birds\")\n",
    "plt.show()\n",
    "\n",
    "sns.boxplot(x=df_incl_continent[ (df_incl_continent.Species == 'Birds') & (df_incl_continent.IUCN == 'CRITICAL')]['Value'], width=0.3, saturation=1).set(title=\"Boxplot for the number of critical endangered Birds\")\n",
    "plt.show()\n",
    "\n",
    "sns.boxplot(x=df_incl_continent[ (df_incl_continent.Species == 'Birds') & (df_incl_continent.IUCN == 'ENDANGERED')]['Value'], width=0.3, saturation=1).set(title=\"Boxplot for the number of endangered Birds\")\n",
    "plt.show()\n",
    "\n",
    "sns.boxplot(x=df_incl_continent[ (df_incl_continent.Species == 'Birds') & (df_incl_continent.IUCN == 'VULNERABLE')]['Value'], width=0.3, saturation=1).set(title=\"Boxplot for the number of vulnerable Birds\")\n",
    "plt.show()\n",
    "\n",
    "sns.boxplot(x=df_incl_continent[ (df_incl_continent.Species == 'Birds') & (df_incl_continent.IUCN == 'THREATENED')]['Value'], width=0.3, saturation=1).set(title=\"Boxplot for the number of threatened Birds\")\n",
    "plt.show()\n"
   ]
  },
  {
   "cell_type": "code",
   "execution_count": 16,
   "id": "2f19437c",
   "metadata": {},
   "outputs": [
    {
     "data": {
      "image/png": "[encoded data removed]",
      "text/plain": [
       "<Figure size 360x360 with 1 Axes>"
      ]
     },
     "metadata": {
      "needs_background": "light"
     },
     "output_type": "display_data"
    },
    {
     "data": {
      "image/png": "[encoded data removed]",
      "text/plain": [
       "<Figure size 360x360 with 1 Axes>"
      ]
     },
     "metadata": {
      "needs_background": "light"
     },
     "output_type": "display_data"
    },
    {
     "data": {
      "image/png": "[encoded data removed]",
      "text/plain": [
       "<Figure size 360x360 with 1 Axes>"
      ]
     },
     "metadata": {
      "needs_background": "light"
     },
     "output_type": "display_data"
    },
    {
     "data": {
      "image/png": "[encoded data removed]",
      "text/plain": [
       "<Figure size 360x360 with 1 Axes>"
      ]
     },
     "metadata": {
      "needs_background": "light"
     },
     "output_type": "display_data"
    },
    {
     "data": {
      "image/png": "[encoded data removed]",
      "text/plain": [
       "<Figure size 360x360 with 1 Axes>"
      ]
     },
     "metadata": {
      "needs_background": "light"
     },
     "output_type": "display_data"
    }
   ],
   "source": [
    "# Boxplots for Fish\n",
    "\n",
    "plt.rcParams[\"figure.figsize\"] = (5,5)\n",
    "sns.boxplot(x=df_incl_continent[ ((df_incl_continent.Species == 'Fish') | (df_incl_continent.Species == 'Marine Fish') | (df_incl_continent.Species == 'Freshwater Fish')) & (df_incl_continent.IUCN == 'TOT_KNOWN')]['Value'], width=0.3, saturation=1).set(title=\"Boxplot for the total number of Fish\")\n",
    "plt.show()\n",
    "\n",
    "sns.boxplot(x=df_incl_continent[ ((df_incl_continent.Species == 'Fish') | (df_incl_continent.Species == 'Marine Fish') | (df_incl_continent.Species == 'Freshwater Fish')) & (df_incl_continent.IUCN == 'CRITICAL')]['Value'], width=0.3, saturation=1).set(title=\"Boxplot for the number of critical endangered Fish\")\n",
    "plt.show()\n",
    "\n",
    "sns.boxplot(x=df_incl_continent[ ((df_incl_continent.Species == 'Fish') | (df_incl_continent.Species == 'Marine Fish') | (df_incl_continent.Species == 'Freshwater Fish')) & (df_incl_continent.IUCN == 'ENDANGERED')]['Value'], width=0.3, saturation=1).set(title=\"Boxplot for the number of endangered Fish\")\n",
    "plt.show()\n",
    "\n",
    "sns.boxplot(x=df_incl_continent[ ((df_incl_continent.Species == 'Fish') | (df_incl_continent.Species == 'Marine Fish') | (df_incl_continent.Species == 'Freshwater Fish')) & (df_incl_continent.IUCN == 'VULNERABLE')]['Value'], width=0.3, saturation=1).set(title=\"Boxplot for the number of vulnerable Fish\")\n",
    "plt.show()\n",
    "\n",
    "sns.boxplot(x=df_incl_continent[ ((df_incl_continent.Species == 'Fish') | (df_incl_continent.Species == 'Marine Fish') | (df_incl_continent.Species == 'Freshwater Fish')) & (df_incl_continent.IUCN == 'THREATENED')]['Value'], width=0.3, saturation=1).set(title=\"Boxplot for the number of threatened Fish\")\n",
    "plt.show()"
   ]
  },
  {
   "cell_type": "markdown",
   "id": "4e64e641",
   "metadata": {},
   "source": [
    "### Birds"
   ]
  },
  {
   "cell_type": "markdown",
   "id": "1b57598a",
   "metadata": {},
   "source": [
    "As we are looking on relative numbers, we have to calculate them in the beginning. Therefore we need the total numbers of birds and the total numbers of endangered, critically endangered, vulnerable and threatened birds. Therefore we can just look at the parts of the data where there are no missing values, as we can't calculate the relative numbers with missing values. Therefore we are just considering countries without missing data."
   ]
  },
  {
   "cell_type": "markdown",
   "id": "5cd569de",
   "metadata": {},
   "source": [
    "#### per Continent"
   ]
  },
  {
   "cell_type": "code",
   "execution_count": 17,
   "id": "15dd7b8d",
   "metadata": {},
   "outputs": [
    {
     "data": {
      "text/html": [
       "<div>\n",
       "<style scoped>\n",
       "    .dataframe tbody tr th:only-of-type {\n",
       "        vertical-align: middle;\n",
       "    }\n",
       "\n",
       "    .dataframe tbody tr th {\n",
       "        vertical-align: top;\n",
       "    }\n",
       "\n",
       "    .dataframe thead th {\n",
       "        text-align: right;\n",
       "    }\n",
       "</style>\n",
       "<table border=\"1\" class=\"dataframe\">\n",
       "  <thead>\n",
       "    <tr style=\"text-align: right;\">\n",
       "      <th>IUCN</th>\n",
       "      <th>CRITICAL</th>\n",
       "      <th>ENDANGERED</th>\n",
       "      <th>VULNERABLE</th>\n",
       "      <th>THREATENED</th>\n",
       "      <th>REST</th>\n",
       "      <th>TOT_KNOWN</th>\n",
       "    </tr>\n",
       "    <tr>\n",
       "      <th>continent</th>\n",
       "      <th></th>\n",
       "      <th></th>\n",
       "      <th></th>\n",
       "      <th></th>\n",
       "      <th></th>\n",
       "      <th></th>\n",
       "    </tr>\n",
       "  </thead>\n",
       "  <tbody>\n",
       "    <tr>\n",
       "      <th>Americas</th>\n",
       "      <td>106.0</td>\n",
       "      <td>254.0</td>\n",
       "      <td>414.0</td>\n",
       "      <td>775.0</td>\n",
       "      <td>3594.0</td>\n",
       "      <td>5143.0</td>\n",
       "    </tr>\n",
       "    <tr>\n",
       "      <th>Asia</th>\n",
       "      <td>38.0</td>\n",
       "      <td>42.0</td>\n",
       "      <td>72.0</td>\n",
       "      <td>169.0</td>\n",
       "      <td>1412.0</td>\n",
       "      <td>1733.0</td>\n",
       "    </tr>\n",
       "    <tr>\n",
       "      <th>Europe</th>\n",
       "      <td>389.0</td>\n",
       "      <td>604.0</td>\n",
       "      <td>897.0</td>\n",
       "      <td>1954.0</td>\n",
       "      <td>4030.0</td>\n",
       "      <td>7874.0</td>\n",
       "    </tr>\n",
       "    <tr>\n",
       "      <th>Oceania</th>\n",
       "      <td>17.0</td>\n",
       "      <td>55.0</td>\n",
       "      <td>63.0</td>\n",
       "      <td>135.0</td>\n",
       "      <td>783.0</td>\n",
       "      <td>1053.0</td>\n",
       "    </tr>\n",
       "  </tbody>\n",
       "</table>\n",
       "</div>"
      ],
      "text/plain": [
       "IUCN       CRITICAL  ENDANGERED  VULNERABLE  THREATENED    REST  TOT_KNOWN\n",
       "continent                                                                 \n",
       "Americas      106.0       254.0       414.0       775.0  3594.0     5143.0\n",
       "Asia           38.0        42.0        72.0       169.0  1412.0     1733.0\n",
       "Europe        389.0       604.0       897.0      1954.0  4030.0     7874.0\n",
       "Oceania        17.0        55.0        63.0       135.0   783.0     1053.0"
      ]
     },
     "execution_count": 17,
     "metadata": {},
     "output_type": "execute_result"
    }
   ],
   "source": [
    "df_birds_continent = df_incl_continent[(df_incl_continent.Species == 'Birds')][['IUCN', 'Species', 'continent', 'Value']]\n",
    "df_birds_continent = df_birds_continent.pivot_table(values='Value', index='continent', columns='IUCN', aggfunc='sum')\n",
    "df_birds_continent['REST'] = df_birds_continent['TOT_KNOWN'] - df_birds_continent['CRITICAL'] - df_birds_continent['ENDANGERED']  - df_birds_continent['VULNERABLE'] - df_birds_continent['THREATENED']\n",
    "df_birds_continent = df_birds_continent[['CRITICAL', 'ENDANGERED', 'VULNERABLE', 'THREATENED', 'REST', 'TOT_KNOWN']].dropna()\n",
    "\n",
    "df_birds_continent"
   ]
  },
  {
   "cell_type": "code",
   "execution_count": 18,
   "id": "4b97d144",
   "metadata": {},
   "outputs": [
    {
     "data": {
      "image/png": "[encoded data removed]",
      "text/plain": [
       "<Figure size 1080x360 with 1 Axes>"
      ]
     },
     "metadata": {},
     "output_type": "display_data"
    }
   ],
   "source": [
    "plt.rcParams[\"figure.figsize\"] = (15,5)\n",
    "df_birds_continent[['CRITICAL', 'ENDANGERED', 'VULNERABLE', 'THREATENED', 'REST']].sum().plot.pie(autopct=\"%.1f%%\", title=\"Percent of Threatened, Vulnerable, Endangered and Critical Endangered Birds\")\n",
    "plt.ylabel(None)\n",
    "plt.show()"
   ]
  },
  {
   "cell_type": "code",
   "execution_count": 19,
   "id": "84db7436",
   "metadata": {},
   "outputs": [],
   "source": [
    "def df_calculate_percentages(data):\n",
    "    data_new = data.copy(deep=True)\n",
    "    data_new['CRITICAL_PCT'] = data_new['CRITICAL']/data_new['TOT_KNOWN']\n",
    "    data_new['ENDANGERED_PCT'] = data_new['ENDANGERED']/data_new['TOT_KNOWN']\n",
    "    data_new['VULNERABLE_PCT'] = data_new['VULNERABLE']/data_new['TOT_KNOWN']\n",
    "    data_new['THREATENED_PCT'] = data_new['THREATENED']/data_new['TOT_KNOWN']\n",
    "    data_new['REST_PCT'] = data_new['REST']/data_new['TOT_KNOWN']\n",
    "    data_new = data_new[['CRITICAL_PCT', 'ENDANGERED_PCT', 'VULNERABLE_PCT', 'THREATENED_PCT', 'REST_PCT']]\n",
    "    return data_new\n",
    "\n",
    "df_birds_continent_pct = df_calculate_percentages(df_birds_continent)"
   ]
  },
  {
   "cell_type": "code",
   "execution_count": 20,
   "id": "a3071110",
   "metadata": {},
   "outputs": [
    {
     "data": {
      "text/plain": [
       "<matplotlib.legend.Legend at 0x7f3ec01870a0>"
      ]
     },
     "execution_count": 20,
     "metadata": {},
     "output_type": "execute_result"
    },
    {
     "data": {
      "image/png": "[encoded data removed]",
      "text/plain": [
       "<Figure size 720x360 with 1 Axes>"
      ]
     },
     "metadata": {
      "needs_background": "light"
     },
     "output_type": "display_data"
    }
   ],
   "source": [
    "plt.rcParams[\"figure.figsize\"] = (10,5)\n",
    "df_birds_continent_pct.plot.barh(alpha=1, stacked=True, rot=0)\n",
    "plt.ylabel(\"Continent\")\n",
    "plt.xlabel(\"Percentage of Total Numbers\")\n",
    "plt.xlim(0,1)\n",
    "plt.legend(bbox_to_anchor=(1,1), loc=\"upper left\")"
   ]
  },
  {
   "cell_type": "markdown",
   "id": "09e4e0a7",
   "metadata": {},
   "source": [
    "##### Interpretation:\n",
    "\n",
    "Here we can see that the proportion of threatened birds is much higher in Europe than for example in Asia. Oceania (Australia) and America are in the mittle with their proportions. "
   ]
  },
  {
   "cell_type": "markdown",
   "id": "193e7be5",
   "metadata": {},
   "source": [
    "#### per Sub Region"
   ]
  },
  {
   "cell_type": "code",
   "execution_count": 21,
   "id": "f87bcc17",
   "metadata": {},
   "outputs": [
    {
     "data": {
      "text/html": [
       "<div>\n",
       "<style scoped>\n",
       "    .dataframe tbody tr th:only-of-type {\n",
       "        vertical-align: middle;\n",
       "    }\n",
       "\n",
       "    .dataframe tbody tr th {\n",
       "        vertical-align: top;\n",
       "    }\n",
       "\n",
       "    .dataframe thead th {\n",
       "        text-align: right;\n",
       "    }\n",
       "</style>\n",
       "<table border=\"1\" class=\"dataframe\">\n",
       "  <thead>\n",
       "    <tr style=\"text-align: right;\">\n",
       "      <th>IUCN</th>\n",
       "      <th>CRITICAL</th>\n",
       "      <th>ENDANGERED</th>\n",
       "      <th>VULNERABLE</th>\n",
       "      <th>THREATENED</th>\n",
       "      <th>REST</th>\n",
       "      <th>TOT_KNOWN</th>\n",
       "    </tr>\n",
       "    <tr>\n",
       "      <th>sub_region</th>\n",
       "      <th></th>\n",
       "      <th></th>\n",
       "      <th></th>\n",
       "      <th></th>\n",
       "      <th></th>\n",
       "      <th></th>\n",
       "    </tr>\n",
       "  </thead>\n",
       "  <tbody>\n",
       "    <tr>\n",
       "      <th>Australia and New Zealand</th>\n",
       "      <td>17.0</td>\n",
       "      <td>55.0</td>\n",
       "      <td>63.0</td>\n",
       "      <td>135.0</td>\n",
       "      <td>783.0</td>\n",
       "      <td>1053.0</td>\n",
       "    </tr>\n",
       "    <tr>\n",
       "      <th>Central America</th>\n",
       "      <td>20.0</td>\n",
       "      <td>104.0</td>\n",
       "      <td>147.0</td>\n",
       "      <td>271.0</td>\n",
       "      <td>1463.0</td>\n",
       "      <td>2005.0</td>\n",
       "    </tr>\n",
       "    <tr>\n",
       "      <th>Eastern Asia</th>\n",
       "      <td>38.0</td>\n",
       "      <td>42.0</td>\n",
       "      <td>72.0</td>\n",
       "      <td>152.0</td>\n",
       "      <td>923.0</td>\n",
       "      <td>1227.0</td>\n",
       "    </tr>\n",
       "    <tr>\n",
       "      <th>Eastern Europe</th>\n",
       "      <td>84.0</td>\n",
       "      <td>87.0</td>\n",
       "      <td>107.0</td>\n",
       "      <td>335.0</td>\n",
       "      <td>529.0</td>\n",
       "      <td>1142.0</td>\n",
       "    </tr>\n",
       "    <tr>\n",
       "      <th>Northern America</th>\n",
       "      <td>26.0</td>\n",
       "      <td>14.0</td>\n",
       "      <td>48.0</td>\n",
       "      <td>88.0</td>\n",
       "      <td>498.0</td>\n",
       "      <td>674.0</td>\n",
       "    </tr>\n",
       "    <tr>\n",
       "      <th>Northern Europe</th>\n",
       "      <td>128.0</td>\n",
       "      <td>235.0</td>\n",
       "      <td>378.0</td>\n",
       "      <td>748.0</td>\n",
       "      <td>1520.0</td>\n",
       "      <td>3009.0</td>\n",
       "    </tr>\n",
       "    <tr>\n",
       "      <th>South America</th>\n",
       "      <td>60.0</td>\n",
       "      <td>136.0</td>\n",
       "      <td>219.0</td>\n",
       "      <td>416.0</td>\n",
       "      <td>1633.0</td>\n",
       "      <td>2464.0</td>\n",
       "    </tr>\n",
       "    <tr>\n",
       "      <th>Southern Europe</th>\n",
       "      <td>71.0</td>\n",
       "      <td>147.0</td>\n",
       "      <td>193.0</td>\n",
       "      <td>411.0</td>\n",
       "      <td>1310.0</td>\n",
       "      <td>2132.0</td>\n",
       "    </tr>\n",
       "    <tr>\n",
       "      <th>Western Europe</th>\n",
       "      <td>106.0</td>\n",
       "      <td>135.0</td>\n",
       "      <td>219.0</td>\n",
       "      <td>460.0</td>\n",
       "      <td>671.0</td>\n",
       "      <td>1591.0</td>\n",
       "    </tr>\n",
       "  </tbody>\n",
       "</table>\n",
       "</div>"
      ],
      "text/plain": [
       "IUCN                       CRITICAL  ENDANGERED  VULNERABLE  THREATENED  \\\n",
       "sub_region                                                                \n",
       "Australia and New Zealand      17.0        55.0        63.0       135.0   \n",
       "Central America                20.0       104.0       147.0       271.0   \n",
       "Eastern Asia                   38.0        42.0        72.0       152.0   \n",
       "Eastern Europe                 84.0        87.0       107.0       335.0   \n",
       "Northern America               26.0        14.0        48.0        88.0   \n",
       "Northern Europe               128.0       235.0       378.0       748.0   \n",
       "South America                  60.0       136.0       219.0       416.0   \n",
       "Southern Europe                71.0       147.0       193.0       411.0   \n",
       "Western Europe                106.0       135.0       219.0       460.0   \n",
       "\n",
       "IUCN                         REST  TOT_KNOWN  \n",
       "sub_region                                    \n",
       "Australia and New Zealand   783.0     1053.0  \n",
       "Central America            1463.0     2005.0  \n",
       "Eastern Asia                923.0     1227.0  \n",
       "Eastern Europe              529.0     1142.0  \n",
       "Northern America            498.0      674.0  \n",
       "Northern Europe            1520.0     3009.0  \n",
       "South America              1633.0     2464.0  \n",
       "Southern Europe            1310.0     2132.0  \n",
       "Western Europe              671.0     1591.0  "
      ]
     },
     "execution_count": 21,
     "metadata": {},
     "output_type": "execute_result"
    }
   ],
   "source": [
    "df_birds_subregion = df_incl_continent[(df_incl_continent.Species == 'Birds')][['IUCN', 'Species', 'sub_region', 'Value']]\n",
    "df_birds_subregion = df_birds_subregion.pivot_table(values='Value', index='sub_region', columns='IUCN', aggfunc='sum')\n",
    "df_birds_subregion['REST'] = df_birds_subregion['TOT_KNOWN'] - df_birds_subregion['CRITICAL'] - df_birds_subregion['ENDANGERED']  - df_birds_subregion['VULNERABLE'] - df_birds_subregion['THREATENED']\n",
    "df_birds_subregion = df_birds_subregion[['CRITICAL', 'ENDANGERED', 'VULNERABLE', 'THREATENED', 'REST', 'TOT_KNOWN']].dropna()\n",
    "\n",
    "df_birds_subregion"
   ]
  },
  {
   "cell_type": "code",
   "execution_count": 22,
   "id": "4067f855",
   "metadata": {},
   "outputs": [],
   "source": [
    "df_birds_subregion_pct = df_calculate_percentages(df_birds_subregion)"
   ]
  },
  {
   "cell_type": "code",
   "execution_count": 23,
   "id": "3b6747e1",
   "metadata": {},
   "outputs": [
    {
     "data": {
      "text/plain": [
       "<matplotlib.legend.Legend at 0x7f3ec005bfa0>"
      ]
     },
     "execution_count": 23,
     "metadata": {},
     "output_type": "execute_result"
    },
    {
     "data": {
      "image/png": "[encoded data removed]",
      "text/plain": [
       "<Figure size 720x576 with 1 Axes>"
      ]
     },
     "metadata": {
      "needs_background": "light"
     },
     "output_type": "display_data"
    }
   ],
   "source": [
    "plt.rcParams[\"figure.figsize\"] = (10,8)\n",
    "df_birds_subregion_pct.plot.barh(alpha=1, stacked=True, rot=0)\n",
    "plt.ylabel(\"Sub regions\")\n",
    "plt.xlabel(\"Percentage of Total Numbers\")\n",
    "plt.xlim(0,1)\n",
    "plt.legend(bbox_to_anchor=(1,1), loc=\"upper left\")"
   ]
  },
  {
   "cell_type": "markdown",
   "id": "c176b539",
   "metadata": {},
   "source": [
    "##### Interpretation:\n",
    "\n",
    "As we have seen before Europe is the continent with the highes proportion of threatened birds. Therefore we are now looking at sub regions. Here we see that Europe is now divided in Wester, Norther, Southern and Eastern Europe. Western, Northern and Eastern Europe are reflecting the Trend we saw above in Europe. In Contrast we see, that Southern Europe has a far lower proportion of endangered birds than the other sub regions in europe."
   ]
  },
  {
   "cell_type": "markdown",
   "id": "b14888c0",
   "metadata": {},
   "source": [
    "#### per Country"
   ]
  },
  {
   "cell_type": "code",
   "execution_count": 24,
   "id": "b3b95e2e",
   "metadata": {},
   "outputs": [
    {
     "data": {
      "text/html": [
       "<div>\n",
       "<style scoped>\n",
       "    .dataframe tbody tr th:only-of-type {\n",
       "        vertical-align: middle;\n",
       "    }\n",
       "\n",
       "    .dataframe tbody tr th {\n",
       "        vertical-align: top;\n",
       "    }\n",
       "\n",
       "    .dataframe thead th {\n",
       "        text-align: right;\n",
       "    }\n",
       "</style>\n",
       "<table border=\"1\" class=\"dataframe\">\n",
       "  <thead>\n",
       "    <tr style=\"text-align: right;\">\n",
       "      <th>IUCN</th>\n",
       "      <th>CRITICAL</th>\n",
       "      <th>ENDANGERED</th>\n",
       "      <th>VULNERABLE</th>\n",
       "      <th>THREATENED</th>\n",
       "      <th>REST</th>\n",
       "      <th>TOT_KNOWN</th>\n",
       "    </tr>\n",
       "    <tr>\n",
       "      <th>Country</th>\n",
       "      <th></th>\n",
       "      <th></th>\n",
       "      <th></th>\n",
       "      <th></th>\n",
       "      <th></th>\n",
       "      <th></th>\n",
       "    </tr>\n",
       "  </thead>\n",
       "  <tbody>\n",
       "    <tr>\n",
       "      <th>Australia</th>\n",
       "      <td>17.0</td>\n",
       "      <td>55.0</td>\n",
       "      <td>63.0</td>\n",
       "      <td>135.0</td>\n",
       "      <td>529.0</td>\n",
       "      <td>799.0</td>\n",
       "    </tr>\n",
       "    <tr>\n",
       "      <th>Austria</th>\n",
       "      <td>14.0</td>\n",
       "      <td>24.0</td>\n",
       "      <td>28.0</td>\n",
       "      <td>66.0</td>\n",
       "      <td>81.0</td>\n",
       "      <td>213.0</td>\n",
       "    </tr>\n",
       "    <tr>\n",
       "      <th>Belgium</th>\n",
       "      <td>20.0</td>\n",
       "      <td>15.0</td>\n",
       "      <td>20.0</td>\n",
       "      <td>55.0</td>\n",
       "      <td>88.0</td>\n",
       "      <td>198.0</td>\n",
       "    </tr>\n",
       "    <tr>\n",
       "      <th>Canada</th>\n",
       "      <td>26.0</td>\n",
       "      <td>14.0</td>\n",
       "      <td>48.0</td>\n",
       "      <td>88.0</td>\n",
       "      <td>498.0</td>\n",
       "      <td>674.0</td>\n",
       "    </tr>\n",
       "    <tr>\n",
       "      <th>Chile</th>\n",
       "      <td>2.0</td>\n",
       "      <td>25.0</td>\n",
       "      <td>19.0</td>\n",
       "      <td>46.0</td>\n",
       "      <td>418.0</td>\n",
       "      <td>510.0</td>\n",
       "    </tr>\n",
       "    <tr>\n",
       "      <th>Colombia</th>\n",
       "      <td>16.0</td>\n",
       "      <td>40.0</td>\n",
       "      <td>80.0</td>\n",
       "      <td>136.0</td>\n",
       "      <td>1682.0</td>\n",
       "      <td>1954.0</td>\n",
       "    </tr>\n",
       "    <tr>\n",
       "      <th>Costa Rica</th>\n",
       "      <td>2.0</td>\n",
       "      <td>8.0</td>\n",
       "      <td>20.0</td>\n",
       "      <td>30.0</td>\n",
       "      <td>828.0</td>\n",
       "      <td>888.0</td>\n",
       "    </tr>\n",
       "    <tr>\n",
       "      <th>Czech Republic</th>\n",
       "      <td>35.0</td>\n",
       "      <td>35.0</td>\n",
       "      <td>45.0</td>\n",
       "      <td>115.0</td>\n",
       "      <td>7.0</td>\n",
       "      <td>237.0</td>\n",
       "    </tr>\n",
       "    <tr>\n",
       "      <th>Denmark</th>\n",
       "      <td>24.0</td>\n",
       "      <td>15.0</td>\n",
       "      <td>45.0</td>\n",
       "      <td>84.0</td>\n",
       "      <td>73.0</td>\n",
       "      <td>241.0</td>\n",
       "    </tr>\n",
       "    <tr>\n",
       "      <th>Estonia</th>\n",
       "      <td>23.0</td>\n",
       "      <td>31.0</td>\n",
       "      <td>41.0</td>\n",
       "      <td>95.0</td>\n",
       "      <td>44.0</td>\n",
       "      <td>234.0</td>\n",
       "    </tr>\n",
       "    <tr>\n",
       "      <th>Finland</th>\n",
       "      <td>13.0</td>\n",
       "      <td>36.0</td>\n",
       "      <td>38.0</td>\n",
       "      <td>87.0</td>\n",
       "      <td>74.0</td>\n",
       "      <td>248.0</td>\n",
       "    </tr>\n",
       "    <tr>\n",
       "      <th>France</th>\n",
       "      <td>16.0</td>\n",
       "      <td>33.0</td>\n",
       "      <td>58.0</td>\n",
       "      <td>107.0</td>\n",
       "      <td>182.0</td>\n",
       "      <td>396.0</td>\n",
       "    </tr>\n",
       "    <tr>\n",
       "      <th>Germany</th>\n",
       "      <td>30.0</td>\n",
       "      <td>24.0</td>\n",
       "      <td>40.0</td>\n",
       "      <td>94.0</td>\n",
       "      <td>92.0</td>\n",
       "      <td>280.0</td>\n",
       "    </tr>\n",
       "    <tr>\n",
       "      <th>Greece</th>\n",
       "      <td>14.0</td>\n",
       "      <td>17.0</td>\n",
       "      <td>31.0</td>\n",
       "      <td>62.0</td>\n",
       "      <td>316.0</td>\n",
       "      <td>440.0</td>\n",
       "    </tr>\n",
       "    <tr>\n",
       "      <th>Hungary</th>\n",
       "      <td>23.0</td>\n",
       "      <td>20.0</td>\n",
       "      <td>35.0</td>\n",
       "      <td>78.0</td>\n",
       "      <td>82.0</td>\n",
       "      <td>238.0</td>\n",
       "    </tr>\n",
       "    <tr>\n",
       "      <th>Iceland</th>\n",
       "      <td>6.0</td>\n",
       "      <td>11.0</td>\n",
       "      <td>16.0</td>\n",
       "      <td>33.0</td>\n",
       "      <td>9.0</td>\n",
       "      <td>75.0</td>\n",
       "    </tr>\n",
       "    <tr>\n",
       "      <th>Italy</th>\n",
       "      <td>10.0</td>\n",
       "      <td>36.0</td>\n",
       "      <td>21.0</td>\n",
       "      <td>67.0</td>\n",
       "      <td>144.0</td>\n",
       "      <td>278.0</td>\n",
       "    </tr>\n",
       "    <tr>\n",
       "      <th>Japan</th>\n",
       "      <td>31.0</td>\n",
       "      <td>24.0</td>\n",
       "      <td>43.0</td>\n",
       "      <td>98.0</td>\n",
       "      <td>504.0</td>\n",
       "      <td>700.0</td>\n",
       "    </tr>\n",
       "    <tr>\n",
       "      <th>Korea</th>\n",
       "      <td>7.0</td>\n",
       "      <td>18.0</td>\n",
       "      <td>29.0</td>\n",
       "      <td>54.0</td>\n",
       "      <td>419.0</td>\n",
       "      <td>527.0</td>\n",
       "    </tr>\n",
       "    <tr>\n",
       "      <th>Latvia</th>\n",
       "      <td>4.0</td>\n",
       "      <td>19.0</td>\n",
       "      <td>16.0</td>\n",
       "      <td>39.0</td>\n",
       "      <td>155.0</td>\n",
       "      <td>233.0</td>\n",
       "    </tr>\n",
       "    <tr>\n",
       "      <th>Lithuania</th>\n",
       "      <td>19.0</td>\n",
       "      <td>17.0</td>\n",
       "      <td>20.0</td>\n",
       "      <td>56.0</td>\n",
       "      <td>277.0</td>\n",
       "      <td>389.0</td>\n",
       "    </tr>\n",
       "    <tr>\n",
       "      <th>Luxembourg</th>\n",
       "      <td>7.0</td>\n",
       "      <td>8.0</td>\n",
       "      <td>11.0</td>\n",
       "      <td>26.0</td>\n",
       "      <td>79.0</td>\n",
       "      <td>131.0</td>\n",
       "    </tr>\n",
       "    <tr>\n",
       "      <th>Mexico</th>\n",
       "      <td>18.0</td>\n",
       "      <td>96.0</td>\n",
       "      <td>127.0</td>\n",
       "      <td>241.0</td>\n",
       "      <td>635.0</td>\n",
       "      <td>1117.0</td>\n",
       "    </tr>\n",
       "    <tr>\n",
       "      <th>Netherlands</th>\n",
       "      <td>10.0</td>\n",
       "      <td>10.0</td>\n",
       "      <td>21.0</td>\n",
       "      <td>41.0</td>\n",
       "      <td>86.0</td>\n",
       "      <td>168.0</td>\n",
       "    </tr>\n",
       "    <tr>\n",
       "      <th>Norway</th>\n",
       "      <td>6.0</td>\n",
       "      <td>15.0</td>\n",
       "      <td>25.0</td>\n",
       "      <td>46.0</td>\n",
       "      <td>172.0</td>\n",
       "      <td>264.0</td>\n",
       "    </tr>\n",
       "    <tr>\n",
       "      <th>Poland</th>\n",
       "      <td>16.0</td>\n",
       "      <td>8.0</td>\n",
       "      <td>10.0</td>\n",
       "      <td>34.0</td>\n",
       "      <td>388.0</td>\n",
       "      <td>456.0</td>\n",
       "    </tr>\n",
       "    <tr>\n",
       "      <th>Portugal</th>\n",
       "      <td>20.0</td>\n",
       "      <td>30.0</td>\n",
       "      <td>61.0</td>\n",
       "      <td>111.0</td>\n",
       "      <td>171.0</td>\n",
       "      <td>393.0</td>\n",
       "    </tr>\n",
       "    <tr>\n",
       "      <th>Slovak Republic</th>\n",
       "      <td>10.0</td>\n",
       "      <td>24.0</td>\n",
       "      <td>17.0</td>\n",
       "      <td>51.0</td>\n",
       "      <td>109.0</td>\n",
       "      <td>211.0</td>\n",
       "    </tr>\n",
       "    <tr>\n",
       "      <th>Slovenia</th>\n",
       "      <td>17.0</td>\n",
       "      <td>43.0</td>\n",
       "      <td>45.0</td>\n",
       "      <td>105.0</td>\n",
       "      <td>170.0</td>\n",
       "      <td>380.0</td>\n",
       "    </tr>\n",
       "    <tr>\n",
       "      <th>Spain</th>\n",
       "      <td>10.0</td>\n",
       "      <td>21.0</td>\n",
       "      <td>35.0</td>\n",
       "      <td>66.0</td>\n",
       "      <td>509.0</td>\n",
       "      <td>641.0</td>\n",
       "    </tr>\n",
       "    <tr>\n",
       "      <th>Sweden</th>\n",
       "      <td>6.0</td>\n",
       "      <td>11.0</td>\n",
       "      <td>35.0</td>\n",
       "      <td>52.0</td>\n",
       "      <td>153.0</td>\n",
       "      <td>257.0</td>\n",
       "    </tr>\n",
       "    <tr>\n",
       "      <th>Switzerland</th>\n",
       "      <td>9.0</td>\n",
       "      <td>21.0</td>\n",
       "      <td>41.0</td>\n",
       "      <td>71.0</td>\n",
       "      <td>63.0</td>\n",
       "      <td>205.0</td>\n",
       "    </tr>\n",
       "    <tr>\n",
       "      <th>United Kingdom</th>\n",
       "      <td>27.0</td>\n",
       "      <td>43.0</td>\n",
       "      <td>52.0</td>\n",
       "      <td>129.0</td>\n",
       "      <td>339.0</td>\n",
       "      <td>590.0</td>\n",
       "    </tr>\n",
       "  </tbody>\n",
       "</table>\n",
       "</div>"
      ],
      "text/plain": [
       "IUCN             CRITICAL  ENDANGERED  VULNERABLE  THREATENED    REST  \\\n",
       "Country                                                                 \n",
       "Australia            17.0        55.0        63.0       135.0   529.0   \n",
       "Austria              14.0        24.0        28.0        66.0    81.0   \n",
       "Belgium              20.0        15.0        20.0        55.0    88.0   \n",
       "Canada               26.0        14.0        48.0        88.0   498.0   \n",
       "Chile                 2.0        25.0        19.0        46.0   418.0   \n",
       "Colombia             16.0        40.0        80.0       136.0  1682.0   \n",
       "Costa Rica            2.0         8.0        20.0        30.0   828.0   \n",
       "Czech Republic       35.0        35.0        45.0       115.0     7.0   \n",
       "Denmark              24.0        15.0        45.0        84.0    73.0   \n",
       "Estonia              23.0        31.0        41.0        95.0    44.0   \n",
       "Finland              13.0        36.0        38.0        87.0    74.0   \n",
       "France               16.0        33.0        58.0       107.0   182.0   \n",
       "Germany              30.0        24.0        40.0        94.0    92.0   \n",
       "Greece               14.0        17.0        31.0        62.0   316.0   \n",
       "Hungary              23.0        20.0        35.0        78.0    82.0   \n",
       "Iceland               6.0        11.0        16.0        33.0     9.0   \n",
       "Italy                10.0        36.0        21.0        67.0   144.0   \n",
       "Japan                31.0        24.0        43.0        98.0   504.0   \n",
       "Korea                 7.0        18.0        29.0        54.0   419.0   \n",
       "Latvia                4.0        19.0        16.0        39.0   155.0   \n",
       "Lithuania            19.0        17.0        20.0        56.0   277.0   \n",
       "Luxembourg            7.0         8.0        11.0        26.0    79.0   \n",
       "Mexico               18.0        96.0       127.0       241.0   635.0   \n",
       "Netherlands          10.0        10.0        21.0        41.0    86.0   \n",
       "Norway                6.0        15.0        25.0        46.0   172.0   \n",
       "Poland               16.0         8.0        10.0        34.0   388.0   \n",
       "Portugal             20.0        30.0        61.0       111.0   171.0   \n",
       "Slovak Republic      10.0        24.0        17.0        51.0   109.0   \n",
       "Slovenia             17.0        43.0        45.0       105.0   170.0   \n",
       "Spain                10.0        21.0        35.0        66.0   509.0   \n",
       "Sweden                6.0        11.0        35.0        52.0   153.0   \n",
       "Switzerland           9.0        21.0        41.0        71.0    63.0   \n",
       "United Kingdom       27.0        43.0        52.0       129.0   339.0   \n",
       "\n",
       "IUCN             TOT_KNOWN  \n",
       "Country                     \n",
       "Australia            799.0  \n",
       "Austria              213.0  \n",
       "Belgium              198.0  \n",
       "Canada               674.0  \n",
       "Chile                510.0  \n",
       "Colombia            1954.0  \n",
       "Costa Rica           888.0  \n",
       "Czech Republic       237.0  \n",
       "Denmark              241.0  \n",
       "Estonia              234.0  \n",
       "Finland              248.0  \n",
       "France               396.0  \n",
       "Germany              280.0  \n",
       "Greece               440.0  \n",
       "Hungary              238.0  \n",
       "Iceland               75.0  \n",
       "Italy                278.0  \n",
       "Japan                700.0  \n",
       "Korea                527.0  \n",
       "Latvia               233.0  \n",
       "Lithuania            389.0  \n",
       "Luxembourg           131.0  \n",
       "Mexico              1117.0  \n",
       "Netherlands          168.0  \n",
       "Norway               264.0  \n",
       "Poland               456.0  \n",
       "Portugal             393.0  \n",
       "Slovak Republic      211.0  \n",
       "Slovenia             380.0  \n",
       "Spain                641.0  \n",
       "Sweden               257.0  \n",
       "Switzerland          205.0  \n",
       "United Kingdom       590.0  "
      ]
     },
     "execution_count": 24,
     "metadata": {},
     "output_type": "execute_result"
    }
   ],
   "source": [
    "df_birds_country = df_incl_continent[(df_incl_continent.Species == 'Birds')][['IUCN', 'Species', 'Country', 'Value']]\n",
    "df_birds_country = df_birds_country.pivot_table(values='Value', index='Country', columns='IUCN', aggfunc='sum')\n",
    "df_birds_country['REST'] = df_birds_country['TOT_KNOWN'] - df_birds_country['CRITICAL'] - df_birds_country['ENDANGERED']  - df_birds_country['VULNERABLE'] - df_birds_country['THREATENED']\n",
    "df_birds_country = df_birds_country[['CRITICAL', 'ENDANGERED', 'VULNERABLE', 'THREATENED', 'REST', 'TOT_KNOWN']].dropna()\n",
    "\n",
    "df_birds_country"
   ]
  },
  {
   "cell_type": "code",
   "execution_count": 25,
   "id": "1cd0bbba",
   "metadata": {},
   "outputs": [],
   "source": [
    "df_birds_country_pct = df_calculate_percentages(df_birds_country)"
   ]
  },
  {
   "cell_type": "code",
   "execution_count": 26,
   "id": "2be09f11",
   "metadata": {},
   "outputs": [
    {
     "data": {
      "text/plain": [
       "<matplotlib.legend.Legend at 0x7f3ec00010d0>"
      ]
     },
     "execution_count": 26,
     "metadata": {},
     "output_type": "execute_result"
    },
    {
     "data": {
      "image/png": "[encoded data removed]",
      "text/plain": [
       "<Figure size 720x1440 with 1 Axes>"
      ]
     },
     "metadata": {
      "needs_background": "light"
     },
     "output_type": "display_data"
    }
   ],
   "source": [
    "plt.rcParams[\"figure.figsize\"] = (10,20)\n",
    "df_birds_country_pct.plot.barh(alpha=1, stacked=True, rot=0)\n",
    "plt.ylabel(\"Country\")\n",
    "plt.xlabel(\"Percentage of Total Numbers\")\n",
    "plt.xlim(0,1)\n",
    "plt.legend(bbox_to_anchor=(1,1), loc=\"upper left\")"
   ]
  },
  {
   "cell_type": "markdown",
   "id": "e1fe49af",
   "metadata": {},
   "source": [
    "##### Interpretation of the Results:\n",
    "\n",
    "Looking at the results in a more detailed way, based on countries confirms that. The countries with the highes proportions of threatened birds are Czech Republic, Iceland and Estonia. You can also see the trend that the countries with the highest proportions of threatened birds are in Europe."
   ]
  },
  {
   "cell_type": "markdown",
   "id": "6e2a1c3c",
   "metadata": {},
   "source": [
    "### Fish"
   ]
  },
  {
   "cell_type": "markdown",
   "id": "16a533b8",
   "metadata": {},
   "source": [
    "As we are looking on relative numbers, we have to calculate them in the beginning. Therefore we need the total numbers of fish and the total numbers of endangered, critically endangered, vulnerable and threatened birds. Therefore we can just look at the parts of the data where there are no missing values, as we can't calculate the relative numbers with missing values. Therefore we are just considering countries without missing data."
   ]
  },
  {
   "cell_type": "markdown",
   "id": "b295f71a",
   "metadata": {},
   "source": [
    "#### per Continent"
   ]
  },
  {
   "cell_type": "code",
   "execution_count": 27,
   "id": "87f2fecb",
   "metadata": {},
   "outputs": [
    {
     "data": {
      "text/html": [
       "<div>\n",
       "<style scoped>\n",
       "    .dataframe tbody tr th:only-of-type {\n",
       "        vertical-align: middle;\n",
       "    }\n",
       "\n",
       "    .dataframe tbody tr th {\n",
       "        vertical-align: top;\n",
       "    }\n",
       "\n",
       "    .dataframe thead th {\n",
       "        text-align: right;\n",
       "    }\n",
       "</style>\n",
       "<table border=\"1\" class=\"dataframe\">\n",
       "  <thead>\n",
       "    <tr style=\"text-align: right;\">\n",
       "      <th>IUCN</th>\n",
       "      <th>CRITICAL</th>\n",
       "      <th>ENDANGERED</th>\n",
       "      <th>VULNERABLE</th>\n",
       "      <th>THREATENED</th>\n",
       "      <th>REST</th>\n",
       "      <th>TOT_KNOWN</th>\n",
       "    </tr>\n",
       "    <tr>\n",
       "      <th>continent</th>\n",
       "      <th></th>\n",
       "      <th></th>\n",
       "      <th></th>\n",
       "      <th></th>\n",
       "      <th></th>\n",
       "      <th></th>\n",
       "    </tr>\n",
       "  </thead>\n",
       "  <tbody>\n",
       "    <tr>\n",
       "      <th>Americas</th>\n",
       "      <td>328.0</td>\n",
       "      <td>532.0</td>\n",
       "      <td>780.0</td>\n",
       "      <td>1640.0</td>\n",
       "      <td>17709.0</td>\n",
       "      <td>20989.0</td>\n",
       "    </tr>\n",
       "    <tr>\n",
       "      <th>Asia</th>\n",
       "      <td>128.0</td>\n",
       "      <td>184.0</td>\n",
       "      <td>106.0</td>\n",
       "      <td>418.0</td>\n",
       "      <td>11942.0</td>\n",
       "      <td>12778.0</td>\n",
       "    </tr>\n",
       "    <tr>\n",
       "      <th>Europe</th>\n",
       "      <td>272.0</td>\n",
       "      <td>337.0</td>\n",
       "      <td>472.0</td>\n",
       "      <td>1191.0</td>\n",
       "      <td>8840.0</td>\n",
       "      <td>11112.0</td>\n",
       "    </tr>\n",
       "    <tr>\n",
       "      <th>Oceania</th>\n",
       "      <td>14.0</td>\n",
       "      <td>38.0</td>\n",
       "      <td>48.0</td>\n",
       "      <td>100.0</td>\n",
       "      <td>11109.0</td>\n",
       "      <td>11309.0</td>\n",
       "    </tr>\n",
       "  </tbody>\n",
       "</table>\n",
       "</div>"
      ],
      "text/plain": [
       "IUCN       CRITICAL  ENDANGERED  VULNERABLE  THREATENED     REST  TOT_KNOWN\n",
       "continent                                                                  \n",
       "Americas      328.0       532.0       780.0      1640.0  17709.0    20989.0\n",
       "Asia          128.0       184.0       106.0       418.0  11942.0    12778.0\n",
       "Europe        272.0       337.0       472.0      1191.0   8840.0    11112.0\n",
       "Oceania        14.0        38.0        48.0       100.0  11109.0    11309.0"
      ]
     },
     "execution_count": 27,
     "metadata": {},
     "output_type": "execute_result"
    }
   ],
   "source": [
    "df_fish_continent = df_incl_continent[(df_incl_continent.Species == 'Fish') | (df_incl_continent.Species == 'Marine Fish') | (df_incl_continent.Species == 'Freshwater Fish')][['IUCN', 'Species', 'continent', 'Value']]\n",
    "df_fish_continent = df_fish_continent.pivot_table(values='Value', index='continent', columns='IUCN', aggfunc='sum')\n",
    "df_fish_continent['REST'] = df_fish_continent['TOT_KNOWN'] - df_fish_continent['CRITICAL'] - df_fish_continent['ENDANGERED']  - df_fish_continent['VULNERABLE'] - df_fish_continent['THREATENED']\n",
    "df_fish_continent = df_fish_continent[['CRITICAL', 'ENDANGERED', 'VULNERABLE', 'THREATENED', 'REST', 'TOT_KNOWN']].dropna()\n",
    "\n",
    "df_fish_continent"
   ]
  },
  {
   "cell_type": "code",
   "execution_count": 28,
   "id": "9705e889",
   "metadata": {},
   "outputs": [
    {
     "data": {
      "image/png": "[encoded data removed]",
      "text/plain": [
       "<Figure size 1080x360 with 1 Axes>"
      ]
     },
     "metadata": {},
     "output_type": "display_data"
    }
   ],
   "source": [
    "plt.rcParams[\"figure.figsize\"] = (15,5)\n",
    "df_fish_continent[['CRITICAL', 'ENDANGERED', 'VULNERABLE', 'THREATENED', 'REST']].sum().plot.pie(autopct=\"%.1f%%\", title=\"Percent of Threatened, Vulnerable, Endangered and Critical Endangered Fish\")\n",
    "plt.ylabel(None)\n",
    "plt.show()"
   ]
  },
  {
   "cell_type": "code",
   "execution_count": 29,
   "id": "e62084ec",
   "metadata": {},
   "outputs": [],
   "source": [
    "df_fish_continent_pct = df_calculate_percentages(df_fish_continent)"
   ]
  },
  {
   "cell_type": "code",
   "execution_count": 30,
   "id": "74cce488",
   "metadata": {},
   "outputs": [
    {
     "data": {
      "text/plain": [
       "<matplotlib.legend.Legend at 0x7f3ec03c7700>"
      ]
     },
     "execution_count": 30,
     "metadata": {},
     "output_type": "execute_result"
    },
    {
     "data": {
      "image/png": "[encoded data removed]",
      "text/plain": [
       "<Figure size 720x360 with 1 Axes>"
      ]
     },
     "metadata": {
      "needs_background": "light"
     },
     "output_type": "display_data"
    }
   ],
   "source": [
    "plt.rcParams[\"figure.figsize\"] = (10,5)\n",
    "df_fish_continent_pct.plot.barh(alpha=1, stacked=True, rot=0)\n",
    "plt.ylabel(\"Continent\")\n",
    "plt.xlabel(\"Percentage of Total Numbers\")\n",
    "plt.xlim(0,1)\n",
    "plt.legend(bbox_to_anchor=(1,1), loc=\"upper left\")"
   ]
  },
  {
   "cell_type": "markdown",
   "id": "1f2f22a3",
   "metadata": {},
   "source": [
    "##### Interpretation:\n",
    "\n",
    "Here we see, that the highest proportion of endangered fish is in Europe, followed by America."
   ]
  },
  {
   "cell_type": "markdown",
   "id": "f97ab079",
   "metadata": {},
   "source": [
    "#### per Sub Region"
   ]
  },
  {
   "cell_type": "code",
   "execution_count": 31,
   "id": "dde99520",
   "metadata": {},
   "outputs": [
    {
     "data": {
      "text/html": [
       "<div>\n",
       "<style scoped>\n",
       "    .dataframe tbody tr th:only-of-type {\n",
       "        vertical-align: middle;\n",
       "    }\n",
       "\n",
       "    .dataframe tbody tr th {\n",
       "        vertical-align: top;\n",
       "    }\n",
       "\n",
       "    .dataframe thead th {\n",
       "        text-align: right;\n",
       "    }\n",
       "</style>\n",
       "<table border=\"1\" class=\"dataframe\">\n",
       "  <thead>\n",
       "    <tr style=\"text-align: right;\">\n",
       "      <th>IUCN</th>\n",
       "      <th>CRITICAL</th>\n",
       "      <th>ENDANGERED</th>\n",
       "      <th>VULNERABLE</th>\n",
       "      <th>THREATENED</th>\n",
       "      <th>REST</th>\n",
       "      <th>TOT_KNOWN</th>\n",
       "    </tr>\n",
       "    <tr>\n",
       "      <th>sub_region</th>\n",
       "      <th></th>\n",
       "      <th></th>\n",
       "      <th></th>\n",
       "      <th></th>\n",
       "      <th></th>\n",
       "      <th></th>\n",
       "    </tr>\n",
       "  </thead>\n",
       "  <tbody>\n",
       "    <tr>\n",
       "      <th>Australia and New Zealand</th>\n",
       "      <td>14.0</td>\n",
       "      <td>38.0</td>\n",
       "      <td>48.0</td>\n",
       "      <td>100.0</td>\n",
       "      <td>11109.0</td>\n",
       "      <td>11309.0</td>\n",
       "    </tr>\n",
       "    <tr>\n",
       "      <th>Central America</th>\n",
       "      <td>28.0</td>\n",
       "      <td>169.0</td>\n",
       "      <td>201.0</td>\n",
       "      <td>398.0</td>\n",
       "      <td>6531.0</td>\n",
       "      <td>7327.0</td>\n",
       "    </tr>\n",
       "    <tr>\n",
       "      <th>Eastern Asia</th>\n",
       "      <td>128.0</td>\n",
       "      <td>184.0</td>\n",
       "      <td>106.0</td>\n",
       "      <td>418.0</td>\n",
       "      <td>10344.0</td>\n",
       "      <td>11180.0</td>\n",
       "    </tr>\n",
       "    <tr>\n",
       "      <th>Eastern Europe</th>\n",
       "      <td>38.0</td>\n",
       "      <td>19.0</td>\n",
       "      <td>49.0</td>\n",
       "      <td>216.0</td>\n",
       "      <td>356.0</td>\n",
       "      <td>678.0</td>\n",
       "    </tr>\n",
       "    <tr>\n",
       "      <th>Northern America</th>\n",
       "      <td>18.0</td>\n",
       "      <td>50.0</td>\n",
       "      <td>108.0</td>\n",
       "      <td>176.0</td>\n",
       "      <td>2400.0</td>\n",
       "      <td>2752.0</td>\n",
       "    </tr>\n",
       "    <tr>\n",
       "      <th>Northern Europe</th>\n",
       "      <td>46.0</td>\n",
       "      <td>38.0</td>\n",
       "      <td>61.0</td>\n",
       "      <td>145.0</td>\n",
       "      <td>3037.0</td>\n",
       "      <td>3327.0</td>\n",
       "    </tr>\n",
       "    <tr>\n",
       "      <th>South America</th>\n",
       "      <td>282.0</td>\n",
       "      <td>313.0</td>\n",
       "      <td>471.0</td>\n",
       "      <td>1066.0</td>\n",
       "      <td>8778.0</td>\n",
       "      <td>10910.0</td>\n",
       "    </tr>\n",
       "    <tr>\n",
       "      <th>Southern Europe</th>\n",
       "      <td>106.0</td>\n",
       "      <td>164.0</td>\n",
       "      <td>156.0</td>\n",
       "      <td>426.0</td>\n",
       "      <td>4663.0</td>\n",
       "      <td>5515.0</td>\n",
       "    </tr>\n",
       "    <tr>\n",
       "      <th>Western Europe</th>\n",
       "      <td>82.0</td>\n",
       "      <td>116.0</td>\n",
       "      <td>206.0</td>\n",
       "      <td>404.0</td>\n",
       "      <td>784.0</td>\n",
       "      <td>1592.0</td>\n",
       "    </tr>\n",
       "  </tbody>\n",
       "</table>\n",
       "</div>"
      ],
      "text/plain": [
       "IUCN                       CRITICAL  ENDANGERED  VULNERABLE  THREATENED  \\\n",
       "sub_region                                                                \n",
       "Australia and New Zealand      14.0        38.0        48.0       100.0   \n",
       "Central America                28.0       169.0       201.0       398.0   \n",
       "Eastern Asia                  128.0       184.0       106.0       418.0   \n",
       "Eastern Europe                 38.0        19.0        49.0       216.0   \n",
       "Northern America               18.0        50.0       108.0       176.0   \n",
       "Northern Europe                46.0        38.0        61.0       145.0   \n",
       "South America                 282.0       313.0       471.0      1066.0   \n",
       "Southern Europe               106.0       164.0       156.0       426.0   \n",
       "Western Europe                 82.0       116.0       206.0       404.0   \n",
       "\n",
       "IUCN                          REST  TOT_KNOWN  \n",
       "sub_region                                     \n",
       "Australia and New Zealand  11109.0    11309.0  \n",
       "Central America             6531.0     7327.0  \n",
       "Eastern Asia               10344.0    11180.0  \n",
       "Eastern Europe               356.0      678.0  \n",
       "Northern America            2400.0     2752.0  \n",
       "Northern Europe             3037.0     3327.0  \n",
       "South America               8778.0    10910.0  \n",
       "Southern Europe             4663.0     5515.0  \n",
       "Western Europe               784.0     1592.0  "
      ]
     },
     "execution_count": 31,
     "metadata": {},
     "output_type": "execute_result"
    }
   ],
   "source": [
    "df_fish_rubregion = df_incl_continent[(df_incl_continent.Species == 'Fish') | (df_incl_continent.Species == 'Marine Fish') | (df_incl_continent.Species == 'Freshwater Fish')][['IUCN', 'Species', 'sub_region', 'Value']]\n",
    "df_fish_rubregion = df_fish_rubregion.pivot_table(values='Value', index='sub_region', columns='IUCN', aggfunc='sum')\n",
    "df_fish_rubregion['REST'] = df_fish_rubregion['TOT_KNOWN'] - df_fish_rubregion['CRITICAL'] - df_fish_rubregion['ENDANGERED']  - df_fish_rubregion['VULNERABLE'] - df_fish_rubregion['THREATENED']\n",
    "df_fish_rubregion = df_fish_rubregion[['CRITICAL', 'ENDANGERED', 'VULNERABLE', 'THREATENED', 'REST', 'TOT_KNOWN']].dropna()\n",
    "\n",
    "df_fish_rubregion"
   ]
  },
  {
   "cell_type": "code",
   "execution_count": 32,
   "id": "c7598f64",
   "metadata": {},
   "outputs": [],
   "source": [
    "df_fish_subregion_pct = df_calculate_percentages(df_fish_rubregion)"
   ]
  },
  {
   "cell_type": "code",
   "execution_count": 33,
   "id": "c66635d5",
   "metadata": {},
   "outputs": [
    {
     "data": {
      "text/plain": [
       "<matplotlib.legend.Legend at 0x7f3ec0308ee0>"
      ]
     },
     "execution_count": 33,
     "metadata": {},
     "output_type": "execute_result"
    },
    {
     "data": {
      "image/png": "[encoded data removed]",
      "text/plain": [
       "<Figure size 720x576 with 1 Axes>"
      ]
     },
     "metadata": {
      "needs_background": "light"
     },
     "output_type": "display_data"
    }
   ],
   "source": [
    "plt.rcParams[\"figure.figsize\"] = (10,8)\n",
    "df_fish_subregion_pct.plot.barh(alpha=1, stacked=True, rot=0)\n",
    "plt.ylabel(\"Continent\")\n",
    "plt.xlabel(\"Percentage of Total Numbers\")\n",
    "plt.xlim(0,1)\n",
    "plt.legend(bbox_to_anchor=(1,1), loc=\"upper left\")"
   ]
  },
  {
   "cell_type": "markdown",
   "id": "8c46848e",
   "metadata": {},
   "source": [
    "##### Interpretation:\n",
    "\n",
    "Regarding the result from above, we see that the proportion of endangered fish in Europe is driven by Western and Eastern Europe."
   ]
  },
  {
   "cell_type": "markdown",
   "id": "3831a1f0",
   "metadata": {},
   "source": [
    "#### per Country"
   ]
  },
  {
   "cell_type": "code",
   "execution_count": 34,
   "id": "a9bd0d56",
   "metadata": {},
   "outputs": [
    {
     "data": {
      "text/html": [
       "<div>\n",
       "<style scoped>\n",
       "    .dataframe tbody tr th:only-of-type {\n",
       "        vertical-align: middle;\n",
       "    }\n",
       "\n",
       "    .dataframe tbody tr th {\n",
       "        vertical-align: top;\n",
       "    }\n",
       "\n",
       "    .dataframe thead th {\n",
       "        text-align: right;\n",
       "    }\n",
       "</style>\n",
       "<table border=\"1\" class=\"dataframe\">\n",
       "  <thead>\n",
       "    <tr style=\"text-align: right;\">\n",
       "      <th>IUCN</th>\n",
       "      <th>CRITICAL</th>\n",
       "      <th>ENDANGERED</th>\n",
       "      <th>VULNERABLE</th>\n",
       "      <th>THREATENED</th>\n",
       "      <th>REST</th>\n",
       "      <th>TOT_KNOWN</th>\n",
       "    </tr>\n",
       "    <tr>\n",
       "      <th>Country</th>\n",
       "      <th></th>\n",
       "      <th></th>\n",
       "      <th></th>\n",
       "      <th></th>\n",
       "      <th></th>\n",
       "      <th></th>\n",
       "    </tr>\n",
       "  </thead>\n",
       "  <tbody>\n",
       "    <tr>\n",
       "      <th>Australia</th>\n",
       "      <td>14.0</td>\n",
       "      <td>38.0</td>\n",
       "      <td>48.0</td>\n",
       "      <td>100.0</td>\n",
       "      <td>10531.0</td>\n",
       "      <td>10731.0</td>\n",
       "    </tr>\n",
       "    <tr>\n",
       "      <th>Austria</th>\n",
       "      <td>12.0</td>\n",
       "      <td>36.0</td>\n",
       "      <td>30.0</td>\n",
       "      <td>78.0</td>\n",
       "      <td>12.0</td>\n",
       "      <td>168.0</td>\n",
       "    </tr>\n",
       "    <tr>\n",
       "      <th>Belgium</th>\n",
       "      <td>6.0</td>\n",
       "      <td>8.0</td>\n",
       "      <td>44.0</td>\n",
       "      <td>58.0</td>\n",
       "      <td>168.0</td>\n",
       "      <td>284.0</td>\n",
       "    </tr>\n",
       "    <tr>\n",
       "      <th>Canada</th>\n",
       "      <td>18.0</td>\n",
       "      <td>50.0</td>\n",
       "      <td>108.0</td>\n",
       "      <td>176.0</td>\n",
       "      <td>2400.0</td>\n",
       "      <td>2752.0</td>\n",
       "    </tr>\n",
       "    <tr>\n",
       "      <th>Chile</th>\n",
       "      <td>2.0</td>\n",
       "      <td>46.0</td>\n",
       "      <td>28.0</td>\n",
       "      <td>76.0</td>\n",
       "      <td>2374.0</td>\n",
       "      <td>2526.0</td>\n",
       "    </tr>\n",
       "    <tr>\n",
       "      <th>Colombia</th>\n",
       "      <td>10.0</td>\n",
       "      <td>15.0</td>\n",
       "      <td>147.0</td>\n",
       "      <td>172.0</td>\n",
       "      <td>8040.0</td>\n",
       "      <td>8384.0</td>\n",
       "    </tr>\n",
       "    <tr>\n",
       "      <th>Costa Rica</th>\n",
       "      <td>1.0</td>\n",
       "      <td>9.0</td>\n",
       "      <td>58.0</td>\n",
       "      <td>68.0</td>\n",
       "      <td>1699.0</td>\n",
       "      <td>1835.0</td>\n",
       "    </tr>\n",
       "    <tr>\n",
       "      <th>Czech Republic</th>\n",
       "      <td>30.0</td>\n",
       "      <td>4.0</td>\n",
       "      <td>16.0</td>\n",
       "      <td>50.0</td>\n",
       "      <td>98.0</td>\n",
       "      <td>198.0</td>\n",
       "    </tr>\n",
       "    <tr>\n",
       "      <th>Denmark</th>\n",
       "      <td>5.0</td>\n",
       "      <td>3.0</td>\n",
       "      <td>8.0</td>\n",
       "      <td>16.0</td>\n",
       "      <td>261.0</td>\n",
       "      <td>293.0</td>\n",
       "    </tr>\n",
       "    <tr>\n",
       "      <th>Estonia</th>\n",
       "      <td>8.0</td>\n",
       "      <td>3.0</td>\n",
       "      <td>11.0</td>\n",
       "      <td>22.0</td>\n",
       "      <td>179.0</td>\n",
       "      <td>223.0</td>\n",
       "    </tr>\n",
       "    <tr>\n",
       "      <th>Finland</th>\n",
       "      <td>4.0</td>\n",
       "      <td>3.0</td>\n",
       "      <td>5.0</td>\n",
       "      <td>12.0</td>\n",
       "      <td>45.0</td>\n",
       "      <td>69.0</td>\n",
       "    </tr>\n",
       "    <tr>\n",
       "      <th>France</th>\n",
       "      <td>14.0</td>\n",
       "      <td>22.0</td>\n",
       "      <td>16.0</td>\n",
       "      <td>52.0</td>\n",
       "      <td>222.0</td>\n",
       "      <td>326.0</td>\n",
       "    </tr>\n",
       "    <tr>\n",
       "      <th>Germany</th>\n",
       "      <td>24.0</td>\n",
       "      <td>28.0</td>\n",
       "      <td>46.0</td>\n",
       "      <td>98.0</td>\n",
       "      <td>198.0</td>\n",
       "      <td>394.0</td>\n",
       "    </tr>\n",
       "    <tr>\n",
       "      <th>Greece</th>\n",
       "      <td>38.0</td>\n",
       "      <td>32.0</td>\n",
       "      <td>56.0</td>\n",
       "      <td>126.0</td>\n",
       "      <td>1078.0</td>\n",
       "      <td>1330.0</td>\n",
       "    </tr>\n",
       "    <tr>\n",
       "      <th>Ireland</th>\n",
       "      <td>7.0</td>\n",
       "      <td>5.0</td>\n",
       "      <td>10.0</td>\n",
       "      <td>22.0</td>\n",
       "      <td>764.0</td>\n",
       "      <td>808.0</td>\n",
       "    </tr>\n",
       "    <tr>\n",
       "      <th>Italy</th>\n",
       "      <td>42.0</td>\n",
       "      <td>24.0</td>\n",
       "      <td>28.0</td>\n",
       "      <td>94.0</td>\n",
       "      <td>1094.0</td>\n",
       "      <td>1282.0</td>\n",
       "    </tr>\n",
       "    <tr>\n",
       "      <th>Japan</th>\n",
       "      <td>120.0</td>\n",
       "      <td>158.0</td>\n",
       "      <td>92.0</td>\n",
       "      <td>370.0</td>\n",
       "      <td>7860.0</td>\n",
       "      <td>8600.0</td>\n",
       "    </tr>\n",
       "    <tr>\n",
       "      <th>Korea</th>\n",
       "      <td>8.0</td>\n",
       "      <td>26.0</td>\n",
       "      <td>14.0</td>\n",
       "      <td>48.0</td>\n",
       "      <td>2484.0</td>\n",
       "      <td>2580.0</td>\n",
       "    </tr>\n",
       "    <tr>\n",
       "      <th>Latvia</th>\n",
       "      <td>2.0</td>\n",
       "      <td>0.0</td>\n",
       "      <td>2.0</td>\n",
       "      <td>4.0</td>\n",
       "      <td>166.0</td>\n",
       "      <td>174.0</td>\n",
       "    </tr>\n",
       "    <tr>\n",
       "      <th>Lithuania</th>\n",
       "      <td>6.0</td>\n",
       "      <td>0.0</td>\n",
       "      <td>4.0</td>\n",
       "      <td>10.0</td>\n",
       "      <td>190.0</td>\n",
       "      <td>210.0</td>\n",
       "    </tr>\n",
       "    <tr>\n",
       "      <th>Luxembourg</th>\n",
       "      <td>6.0</td>\n",
       "      <td>2.0</td>\n",
       "      <td>16.0</td>\n",
       "      <td>24.0</td>\n",
       "      <td>38.0</td>\n",
       "      <td>86.0</td>\n",
       "    </tr>\n",
       "    <tr>\n",
       "      <th>Mexico</th>\n",
       "      <td>27.0</td>\n",
       "      <td>160.0</td>\n",
       "      <td>143.0</td>\n",
       "      <td>330.0</td>\n",
       "      <td>4832.0</td>\n",
       "      <td>5492.0</td>\n",
       "    </tr>\n",
       "    <tr>\n",
       "      <th>Netherlands</th>\n",
       "      <td>8.0</td>\n",
       "      <td>10.0</td>\n",
       "      <td>28.0</td>\n",
       "      <td>46.0</td>\n",
       "      <td>102.0</td>\n",
       "      <td>194.0</td>\n",
       "    </tr>\n",
       "    <tr>\n",
       "      <th>Norway</th>\n",
       "      <td>2.0</td>\n",
       "      <td>8.0</td>\n",
       "      <td>4.0</td>\n",
       "      <td>14.0</td>\n",
       "      <td>612.0</td>\n",
       "      <td>640.0</td>\n",
       "    </tr>\n",
       "    <tr>\n",
       "      <th>Poland</th>\n",
       "      <td>8.0</td>\n",
       "      <td>9.0</td>\n",
       "      <td>27.0</td>\n",
       "      <td>44.0</td>\n",
       "      <td>151.0</td>\n",
       "      <td>239.0</td>\n",
       "    </tr>\n",
       "    <tr>\n",
       "      <th>Portugal</th>\n",
       "      <td>8.0</td>\n",
       "      <td>10.0</td>\n",
       "      <td>4.0</td>\n",
       "      <td>22.0</td>\n",
       "      <td>21.0</td>\n",
       "      <td>65.0</td>\n",
       "    </tr>\n",
       "    <tr>\n",
       "      <th>Spain</th>\n",
       "      <td>18.0</td>\n",
       "      <td>18.0</td>\n",
       "      <td>48.0</td>\n",
       "      <td>84.0</td>\n",
       "      <td>2124.0</td>\n",
       "      <td>2292.0</td>\n",
       "    </tr>\n",
       "    <tr>\n",
       "      <th>Sweden</th>\n",
       "      <td>12.0</td>\n",
       "      <td>13.0</td>\n",
       "      <td>16.0</td>\n",
       "      <td>41.0</td>\n",
       "      <td>201.0</td>\n",
       "      <td>283.0</td>\n",
       "    </tr>\n",
       "    <tr>\n",
       "      <th>Switzerland</th>\n",
       "      <td>12.0</td>\n",
       "      <td>10.0</td>\n",
       "      <td>26.0</td>\n",
       "      <td>48.0</td>\n",
       "      <td>44.0</td>\n",
       "      <td>140.0</td>\n",
       "    </tr>\n",
       "  </tbody>\n",
       "</table>\n",
       "</div>"
      ],
      "text/plain": [
       "IUCN            CRITICAL  ENDANGERED  VULNERABLE  THREATENED     REST  \\\n",
       "Country                                                                 \n",
       "Australia           14.0        38.0        48.0       100.0  10531.0   \n",
       "Austria             12.0        36.0        30.0        78.0     12.0   \n",
       "Belgium              6.0         8.0        44.0        58.0    168.0   \n",
       "Canada              18.0        50.0       108.0       176.0   2400.0   \n",
       "Chile                2.0        46.0        28.0        76.0   2374.0   \n",
       "Colombia            10.0        15.0       147.0       172.0   8040.0   \n",
       "Costa Rica           1.0         9.0        58.0        68.0   1699.0   \n",
       "Czech Republic      30.0         4.0        16.0        50.0     98.0   \n",
       "Denmark              5.0         3.0         8.0        16.0    261.0   \n",
       "Estonia              8.0         3.0        11.0        22.0    179.0   \n",
       "Finland              4.0         3.0         5.0        12.0     45.0   \n",
       "France              14.0        22.0        16.0        52.0    222.0   \n",
       "Germany             24.0        28.0        46.0        98.0    198.0   \n",
       "Greece              38.0        32.0        56.0       126.0   1078.0   \n",
       "Ireland              7.0         5.0        10.0        22.0    764.0   \n",
       "Italy               42.0        24.0        28.0        94.0   1094.0   \n",
       "Japan              120.0       158.0        92.0       370.0   7860.0   \n",
       "Korea                8.0        26.0        14.0        48.0   2484.0   \n",
       "Latvia               2.0         0.0         2.0         4.0    166.0   \n",
       "Lithuania            6.0         0.0         4.0        10.0    190.0   \n",
       "Luxembourg           6.0         2.0        16.0        24.0     38.0   \n",
       "Mexico              27.0       160.0       143.0       330.0   4832.0   \n",
       "Netherlands          8.0        10.0        28.0        46.0    102.0   \n",
       "Norway               2.0         8.0         4.0        14.0    612.0   \n",
       "Poland               8.0         9.0        27.0        44.0    151.0   \n",
       "Portugal             8.0        10.0         4.0        22.0     21.0   \n",
       "Spain               18.0        18.0        48.0        84.0   2124.0   \n",
       "Sweden              12.0        13.0        16.0        41.0    201.0   \n",
       "Switzerland         12.0        10.0        26.0        48.0     44.0   \n",
       "\n",
       "IUCN            TOT_KNOWN  \n",
       "Country                    \n",
       "Australia         10731.0  \n",
       "Austria             168.0  \n",
       "Belgium             284.0  \n",
       "Canada             2752.0  \n",
       "Chile              2526.0  \n",
       "Colombia           8384.0  \n",
       "Costa Rica         1835.0  \n",
       "Czech Republic      198.0  \n",
       "Denmark             293.0  \n",
       "Estonia             223.0  \n",
       "Finland              69.0  \n",
       "France              326.0  \n",
       "Germany             394.0  \n",
       "Greece             1330.0  \n",
       "Ireland             808.0  \n",
       "Italy              1282.0  \n",
       "Japan              8600.0  \n",
       "Korea              2580.0  \n",
       "Latvia              174.0  \n",
       "Lithuania           210.0  \n",
       "Luxembourg           86.0  \n",
       "Mexico             5492.0  \n",
       "Netherlands         194.0  \n",
       "Norway              640.0  \n",
       "Poland              239.0  \n",
       "Portugal             65.0  \n",
       "Spain              2292.0  \n",
       "Sweden              283.0  \n",
       "Switzerland         140.0  "
      ]
     },
     "execution_count": 34,
     "metadata": {},
     "output_type": "execute_result"
    }
   ],
   "source": [
    "df_fish_country = df_incl_continent[(df_incl_continent.Species == 'Fish') | (df_incl_continent.Species == 'Marine Fish') | (df_incl_continent.Species == 'Freshwater Fish')][['IUCN', 'Species', 'Country', 'Value']]\n",
    "df_fish_country = df_fish_country.pivot_table(values='Value', index='Country', columns='IUCN', aggfunc='sum')\n",
    "df_fish_country['REST'] = df_fish_country['TOT_KNOWN'] - df_fish_country['CRITICAL'] - df_fish_country['ENDANGERED']  - df_fish_country['VULNERABLE'] - df_fish_country['THREATENED']\n",
    "df_fish_country = df_fish_country[['CRITICAL', 'ENDANGERED', 'VULNERABLE', 'THREATENED', 'REST', 'TOT_KNOWN']].dropna()\n",
    "\n",
    "df_fish_country"
   ]
  },
  {
   "cell_type": "code",
   "execution_count": 35,
   "id": "f029d9d3",
   "metadata": {},
   "outputs": [],
   "source": [
    "df_fish_country_pct = df_calculate_percentages(df_fish_country)"
   ]
  },
  {
   "cell_type": "code",
   "execution_count": 36,
   "id": "65f65511",
   "metadata": {},
   "outputs": [
    {
     "data": {
      "text/plain": [
       "<matplotlib.legend.Legend at 0x7f3ec03d69d0>"
      ]
     },
     "execution_count": 36,
     "metadata": {},
     "output_type": "execute_result"
    },
    {
     "data": {
      "image/png": "[encoded data removed]",
      "text/plain": [
       "<Figure size 720x1440 with 1 Axes>"
      ]
     },
     "metadata": {
      "needs_background": "light"
     },
     "output_type": "display_data"
    }
   ],
   "source": [
    "plt.rcParams[\"figure.figsize\"] = (10,20)\n",
    "df_fish_country_pct.plot.barh(alpha=1, stacked=True, rot=0)\n",
    "plt.ylabel(\"Country\")\n",
    "plt.xlabel(\"Percentage of Total Numbers\")\n",
    "plt.xlim(0,1)\n",
    "plt.legend(bbox_to_anchor=(1,1), loc=\"upper left\")"
   ]
  },
  {
   "cell_type": "markdown",
   "id": "85d91b13",
   "metadata": {},
   "source": [
    "##### Interpretation:\n",
    "\n",
    "Interesting to see is, that the Country with the highest proportion of endangered Fish is Austria, followed by Switzerland and Portugal. The total number of known fish in Austria is just 168, so if one species is endangered or threatened it will turn out in a higher proportion than in a country like Japan. Therefore we will have a closer look at how this is changing if we seperate the data between fish, marine and freshwater fish. Maybe there is too much bias in this plot."
   ]
  },
  {
   "cell_type": "markdown",
   "id": "eb84cb61",
   "metadata": {},
   "source": [
    "#### Freshwater Fish"
   ]
  },
  {
   "cell_type": "code",
   "execution_count": 37,
   "id": "b988fb35",
   "metadata": {},
   "outputs": [
    {
     "data": {
      "text/html": [
       "<div>\n",
       "<style scoped>\n",
       "    .dataframe tbody tr th:only-of-type {\n",
       "        vertical-align: middle;\n",
       "    }\n",
       "\n",
       "    .dataframe tbody tr th {\n",
       "        vertical-align: top;\n",
       "    }\n",
       "\n",
       "    .dataframe thead th {\n",
       "        text-align: right;\n",
       "    }\n",
       "</style>\n",
       "<table border=\"1\" class=\"dataframe\">\n",
       "  <thead>\n",
       "    <tr style=\"text-align: right;\">\n",
       "      <th>IUCN</th>\n",
       "      <th>CRITICAL</th>\n",
       "      <th>ENDANGERED</th>\n",
       "      <th>VULNERABLE</th>\n",
       "      <th>THREATENED</th>\n",
       "      <th>REST</th>\n",
       "      <th>TOT_KNOWN</th>\n",
       "    </tr>\n",
       "    <tr>\n",
       "      <th>Country</th>\n",
       "      <th></th>\n",
       "      <th></th>\n",
       "      <th></th>\n",
       "      <th></th>\n",
       "      <th></th>\n",
       "      <th></th>\n",
       "    </tr>\n",
       "  </thead>\n",
       "  <tbody>\n",
       "    <tr>\n",
       "      <th>Australia</th>\n",
       "      <td>3.0</td>\n",
       "      <td>17.0</td>\n",
       "      <td>16.0</td>\n",
       "      <td>36.0</td>\n",
       "      <td>303.0</td>\n",
       "      <td>375.0</td>\n",
       "    </tr>\n",
       "    <tr>\n",
       "      <th>Austria</th>\n",
       "      <td>6.0</td>\n",
       "      <td>18.0</td>\n",
       "      <td>15.0</td>\n",
       "      <td>39.0</td>\n",
       "      <td>6.0</td>\n",
       "      <td>84.0</td>\n",
       "    </tr>\n",
       "    <tr>\n",
       "      <th>Belgium</th>\n",
       "      <td>1.0</td>\n",
       "      <td>1.0</td>\n",
       "      <td>13.0</td>\n",
       "      <td>15.0</td>\n",
       "      <td>13.0</td>\n",
       "      <td>43.0</td>\n",
       "    </tr>\n",
       "    <tr>\n",
       "      <th>Canada</th>\n",
       "      <td>6.0</td>\n",
       "      <td>14.0</td>\n",
       "      <td>16.0</td>\n",
       "      <td>36.0</td>\n",
       "      <td>93.0</td>\n",
       "      <td>165.0</td>\n",
       "    </tr>\n",
       "    <tr>\n",
       "      <th>Chile</th>\n",
       "      <td>1.0</td>\n",
       "      <td>23.0</td>\n",
       "      <td>13.0</td>\n",
       "      <td>37.0</td>\n",
       "      <td>-2.0</td>\n",
       "      <td>72.0</td>\n",
       "    </tr>\n",
       "  </tbody>\n",
       "</table>\n",
       "</div>"
      ],
      "text/plain": [
       "IUCN       CRITICAL  ENDANGERED  VULNERABLE  THREATENED   REST  TOT_KNOWN\n",
       "Country                                                                  \n",
       "Australia       3.0        17.0        16.0        36.0  303.0      375.0\n",
       "Austria         6.0        18.0        15.0        39.0    6.0       84.0\n",
       "Belgium         1.0         1.0        13.0        15.0   13.0       43.0\n",
       "Canada          6.0        14.0        16.0        36.0   93.0      165.0\n",
       "Chile           1.0        23.0        13.0        37.0   -2.0       72.0"
      ]
     },
     "execution_count": 37,
     "metadata": {},
     "output_type": "execute_result"
    }
   ],
   "source": [
    "df_fish_country_fresh = df_incl_continent[(df_incl_continent.Species == 'Freshwater Fish')][['IUCN', 'Species', 'Country', 'Value']]\n",
    "df_fish_country_fresh = df_fish_country_fresh.pivot_table(values='Value', index='Country', columns='IUCN', aggfunc='sum')\n",
    "df_fish_country_fresh['REST'] = df_fish_country_fresh['TOT_KNOWN'] - df_fish_country_fresh['CRITICAL'] - df_fish_country_fresh['ENDANGERED']  - df_fish_country_fresh['VULNERABLE'] - df_fish_country_fresh['THREATENED']\n",
    "df_fish_country_fresh = df_fish_country_fresh[['CRITICAL', 'ENDANGERED', 'VULNERABLE', 'THREATENED', 'REST', 'TOT_KNOWN']].dropna()\n",
    "\n",
    "df_fish_country_fresh.head()"
   ]
  },
  {
   "cell_type": "code",
   "execution_count": 38,
   "id": "8fe02445",
   "metadata": {},
   "outputs": [],
   "source": [
    "df_fish_country_fresh_pct = df_calculate_percentages(df_fish_country_fresh)"
   ]
  },
  {
   "cell_type": "code",
   "execution_count": 39,
   "id": "6e801f9e",
   "metadata": {},
   "outputs": [
    {
     "data": {
      "text/plain": [
       "<matplotlib.legend.Legend at 0x7f3ebfd2ba90>"
      ]
     },
     "execution_count": 39,
     "metadata": {},
     "output_type": "execute_result"
    },
    {
     "data": {
      "image/png": "[encoded data removed]",
      "text/plain": [
       "<Figure size 720x1440 with 1 Axes>"
      ]
     },
     "metadata": {
      "needs_background": "light"
     },
     "output_type": "display_data"
    }
   ],
   "source": [
    "plt.rcParams[\"figure.figsize\"] = (10,20)\n",
    "df_fish_country_fresh_pct.plot.barh(alpha=1, stacked=True, rot=0)\n",
    "plt.ylabel(\"Country\")\n",
    "plt.xlabel(\"Percentage of Total Numbers\")\n",
    "plt.xlim(0,1)\n",
    "plt.legend(bbox_to_anchor=(1,1), loc=\"upper left\")"
   ]
  },
  {
   "cell_type": "markdown",
   "id": "9e15a4bc",
   "metadata": {},
   "source": [
    "#### Marine Fish"
   ]
  },
  {
   "cell_type": "code",
   "execution_count": 40,
   "id": "8775ce57",
   "metadata": {},
   "outputs": [
    {
     "data": {
      "text/html": [
       "<div>\n",
       "<style scoped>\n",
       "    .dataframe tbody tr th:only-of-type {\n",
       "        vertical-align: middle;\n",
       "    }\n",
       "\n",
       "    .dataframe tbody tr th {\n",
       "        vertical-align: top;\n",
       "    }\n",
       "\n",
       "    .dataframe thead th {\n",
       "        text-align: right;\n",
       "    }\n",
       "</style>\n",
       "<table border=\"1\" class=\"dataframe\">\n",
       "  <thead>\n",
       "    <tr style=\"text-align: right;\">\n",
       "      <th>IUCN</th>\n",
       "      <th>CRITICAL</th>\n",
       "      <th>ENDANGERED</th>\n",
       "      <th>VULNERABLE</th>\n",
       "      <th>THREATENED</th>\n",
       "      <th>REST</th>\n",
       "      <th>TOT_KNOWN</th>\n",
       "    </tr>\n",
       "    <tr>\n",
       "      <th>Country</th>\n",
       "      <th></th>\n",
       "      <th></th>\n",
       "      <th></th>\n",
       "      <th></th>\n",
       "      <th></th>\n",
       "      <th></th>\n",
       "    </tr>\n",
       "  </thead>\n",
       "  <tbody>\n",
       "    <tr>\n",
       "      <th>Australia</th>\n",
       "      <td>4.0</td>\n",
       "      <td>2.0</td>\n",
       "      <td>8.0</td>\n",
       "      <td>14.0</td>\n",
       "      <td>5023.0</td>\n",
       "      <td>5051.0</td>\n",
       "    </tr>\n",
       "    <tr>\n",
       "      <th>Belgium</th>\n",
       "      <td>2.0</td>\n",
       "      <td>3.0</td>\n",
       "      <td>9.0</td>\n",
       "      <td>14.0</td>\n",
       "      <td>71.0</td>\n",
       "      <td>99.0</td>\n",
       "    </tr>\n",
       "    <tr>\n",
       "      <th>Brazil</th>\n",
       "      <td>34.0</td>\n",
       "      <td>14.0</td>\n",
       "      <td>50.0</td>\n",
       "      <td>98.0</td>\n",
       "      <td>NaN</td>\n",
       "      <td>NaN</td>\n",
       "    </tr>\n",
       "    <tr>\n",
       "      <th>Canada</th>\n",
       "      <td>3.0</td>\n",
       "      <td>11.0</td>\n",
       "      <td>38.0</td>\n",
       "      <td>52.0</td>\n",
       "      <td>1107.0</td>\n",
       "      <td>1211.0</td>\n",
       "    </tr>\n",
       "    <tr>\n",
       "      <th>Chile</th>\n",
       "      <td>NaN</td>\n",
       "      <td>NaN</td>\n",
       "      <td>1.0</td>\n",
       "      <td>1.0</td>\n",
       "      <td>NaN</td>\n",
       "      <td>1182.0</td>\n",
       "    </tr>\n",
       "  </tbody>\n",
       "</table>\n",
       "</div>"
      ],
      "text/plain": [
       "IUCN       CRITICAL  ENDANGERED  VULNERABLE  THREATENED    REST  TOT_KNOWN\n",
       "Country                                                                   \n",
       "Australia       4.0         2.0         8.0        14.0  5023.0     5051.0\n",
       "Belgium         2.0         3.0         9.0        14.0    71.0       99.0\n",
       "Brazil         34.0        14.0        50.0        98.0     NaN        NaN\n",
       "Canada          3.0        11.0        38.0        52.0  1107.0     1211.0\n",
       "Chile           NaN         NaN         1.0         1.0     NaN     1182.0"
      ]
     },
     "execution_count": 40,
     "metadata": {},
     "output_type": "execute_result"
    }
   ],
   "source": [
    "df_fish_country_marine = df_incl_continent[(df_incl_continent.Species == 'Marine Fish')][['IUCN', 'Species', 'Country', 'Value']]\n",
    "df_fish_country_marine = df_fish_country_marine.pivot_table(values='Value', index='Country', columns='IUCN', aggfunc='sum')\n",
    "df_fish_country_marine['REST'] = df_fish_country_marine['TOT_KNOWN'] - df_fish_country_marine['CRITICAL'] - df_fish_country_marine['ENDANGERED']  - df_fish_country_marine['VULNERABLE'] - df_fish_country_marine['THREATENED']\n",
    "df_fish_country_marine = df_fish_country_marine[['CRITICAL', 'ENDANGERED', 'VULNERABLE', 'THREATENED', 'REST', 'TOT_KNOWN']]\n",
    "\n",
    "df_fish_country_marine.head()"
   ]
  },
  {
   "cell_type": "code",
   "execution_count": 41,
   "id": "a085176c",
   "metadata": {},
   "outputs": [],
   "source": [
    "df_fish_country_marine_pct = df_calculate_percentages(df_fish_country_marine)"
   ]
  },
  {
   "cell_type": "code",
   "execution_count": 42,
   "id": "84044f47",
   "metadata": {},
   "outputs": [
    {
     "data": {
      "text/plain": [
       "<matplotlib.legend.Legend at 0x7f3ec035e490>"
      ]
     },
     "execution_count": 42,
     "metadata": {},
     "output_type": "execute_result"
    },
    {
     "data": {
      "image/png": "[encoded data removed]",
      "text/plain": [
       "<Figure size 720x1440 with 1 Axes>"
      ]
     },
     "metadata": {
      "needs_background": "light"
     },
     "output_type": "display_data"
    }
   ],
   "source": [
    "plt.rcParams[\"figure.figsize\"] = (10,20)\n",
    "df_fish_country_marine_pct.plot.barh(alpha=1, stacked=True, rot=0)\n",
    "plt.ylabel(\"Country\")\n",
    "plt.xlabel(\"Percentage of Total Numbers\")\n",
    "plt.xlim(0,1)\n",
    "plt.legend(bbox_to_anchor=(1,1), loc=\"upper left\")"
   ]
  },
  {
   "cell_type": "markdown",
   "id": "c251245a",
   "metadata": {},
   "source": [
    "### Conclusion\n",
    "\n",
    "#### Question 1: \n",
    "How has the population of endangered birds and fish has evolved over time and what are the current numbers in different regions?\n",
    "\n",
    "#### Answer:\n",
    "The population of endangered birds and fish have both inreased in the last years, but it is difficult to say how much of this effect is due to the assessment of new species. Therefore we can't say for sure by how much the number of endangered species has changed, but that the number is increasing. In addition we can say that the increase is higher for fish than for birds.\n",
    "\n",
    "The current proportion of endangered and threatened fish and birds to their total number in different regions turned out in the fact, that the proportion is higher in Europe. Other continents have a lower proportion of endangered and threatened fish and birds. Especially in Western and Eastern Europe the proportion of endangered and threatened birds and fish are about 50%.\n",
    "\n",
    "But as different countries are reporting their numbers of endangered specias in a different way we can not rely fully on these results. Especially when we look at the percentages of threatened fish per countries. There we can see that Austria has the highest percentage of in any kind endangered fish. But Austria is one of the countries with the lowest number of fish species overall. Furthermore we can also see a bias when we are not dividing in freshwater and marine fish. Because Austria just has freshwater fish and when we look at the differences between freshwater and marine fish percentages, the ones for freshwater fish are much higher than the ones for marine fish.\n",
    "\n",
    "Therefore one conclusion is that freshwater fish are more endangered than marine fish.\n",
    "\n"
   ]
  },
  {
   "cell_type": "markdown",
   "id": "9b6c02cf",
   "metadata": {},
   "source": [
    "# Question 2: Which geographical, natural and environmental characteristics predict a higherpercentage of endangered birds and fish in a country?\n",
    "\n",
    "To gather the information needed to answer this question, we use seven datasets, that cover the following topics.\n",
    "\n",
    "##### Dataset GREEN_GROWTH.csv\n",
    "https://stats.oecd.org/Index.aspx?DataSetCode=GREEN_GROWTH\n",
    "\n",
    "The OECD Green Growth database contains selected indicators for monitoring progress towards green growth to support policy making and inform the public at large. The conceptual framework is structured around four groups to capture the main features of green growth:\n",
    "\n",
    "**Environmental and resource productivity:** indicate whether economic growth is becoming greener with more efficient use of natural capital and to capture aspects of production which are rarely quantified in economic models and accounting frameworks;\n",
    "\n",
    "**The natural asset base:** indicate the risks to growth from a declining natural asset base;\n",
    "\n",
    "**Environmental dimension of quality of life:** indicate how environmental conditions affect the quality of life and wellbeing of people;\n",
    "\n",
    "**Economic opportunities and policy responses:** indicate the effectiveness of policies in delivering green growth and describe the societal responses needed to secure business and employment opportunities.\n",
    "\n",
    "\n",
    "##### Dataset LAND_COVER.csv\n",
    "https://stats.oecd.org/Index.aspx?DataSetCode=LAND_COVER\n",
    "\n",
    "Loss of biodiversity and pressures on ecosystem services are among the most pressing global environmental challenges. Changes in land cover and land use are the leading contributors to terrestrial biodiversity loss.\n",
    "This multi-class dataset allows for analysis of changes in land cover consistently at the global scale. It builds on decades of Earth observation missions by different national and supranational space organisations.\n",
    "Loss of natural and semi-natural vegetated land is presented as a proxy for pressures on biodiversity and ecosystems. The indicator is defined as the percentage of tree cover, grassland, wetland, shrubland and sparse vegetation converted to any other land cover type. Gains of natural and semi-natural vegetated land are conversions in the opposite direction. \n",
    "\n",
    "\n",
    "##### Dataset LAND_USE.csv\n",
    "https://stats.oecd.org/Index.aspx?DataSetCode=LAND_USE\n",
    "\n",
    "Land resources are one of the four components of the natural environment: water, air, land and living resources. In this context land is both a physical \"milieu\" necessary for the development of natural vegetation as well as cultivated vegetation and a resource for human activities.\n",
    "The data presented here give information concerning land use state and changes (e.g. agricultural land, forest land).\n",
    "\n",
    "\n",
    "##### Dataset OCEAN.csv\n",
    "https://stats.oecd.org/Index.aspx?DataSetCode=OCEAN\n",
    "\n",
    "The ocean is a shared global resource. Ocean-related industries in many countries have expanded with insufficient consideration for the environment, risking the natural resources and the essential marine ecosystem services on which economies and people’s well-being depend.\n",
    "The OECD Sustainable Ocean Economy Database synthesizes available ocean-related datasets and indicators from across the Organisation to improve their discoverability and comparability. \n",
    "The database structure follows the OECD’s Green Growth indicators framework. \n",
    "Indicators for the following main themes are provided:\n",
    "1.\tNatural capital of the ocean\n",
    "2.\tEnvironmental dimension of wellbeing and resilience in coastal communities\n",
    "3.\tEnvironmental and resource productivity of the ocean economy\n",
    "4.\tEconomic opportunities from pursuing ocean sustainability\n",
    "5.\tPolicy responses directed at ocean sustainability\n",
    "6.\tThe socio-economic context\n",
    "\n",
    "\n",
    "##### Dataset PROTECTED_AREAS.csv\n",
    "https://stats.oecd.org/Index.aspx?DataSetCode=PROTECTED_AREAS  \n",
    "\n",
    "This dataset answers the questions: how extensive are protected areas and what management objectives are pursued via protected area designation?\n",
    "It includes country-level protected area coverage for terrestrial, marine and coastal domains calculated from the World Database on Protected Areas (WDPA) and provides disaggregations of protected area totals by IUCN management objective.\n",
    "\n",
    "\n",
    "##### Dataset WATER_RESOURCES.csv\n",
    "https://stats.oecd.org/Index.aspx?DataSetCode=WATER_RESOURCES\n",
    "\n",
    "This dataset provides detailed statistics for several natural parameters of freshwater resources by long term annual average (with the shortest obersvation period being ten years in Belgium). These provide us with some information on meteorological and geographical data regarding water resources that we may use to build a clustering model.\n"
   ]
  },
  {
   "cell_type": "code",
   "execution_count": 43,
   "id": "eefd7b1c",
   "metadata": {},
   "outputs": [
    {
     "ename": "FileNotFoundError",
     "evalue": "[Errno 2] No such file or directory: 'data/GREEN_GROWTH.csv'",
     "output_type": "error",
     "traceback": [
      "\u001b[0;31m---------------------------------------------------------------------------\u001b[0m",
      "\u001b[0;31mFileNotFoundError\u001b[0m                         Traceback (most recent call last)",
      "\u001b[0;32m/tmp/ipykernel_244/1458757400.py\u001b[0m in \u001b[0;36m<module>\u001b[0;34m\u001b[0m\n\u001b[1;32m      1\u001b[0m \u001b[0;31m# load all datasets\u001b[0m\u001b[0;34m\u001b[0m\u001b[0;34m\u001b[0m\u001b[0m\n\u001b[1;32m      2\u001b[0m \u001b[0mdf_animal\u001b[0m \u001b[0;34m=\u001b[0m \u001b[0mpd\u001b[0m\u001b[0;34m.\u001b[0m\u001b[0mread_csv\u001b[0m\u001b[0;34m(\u001b[0m\u001b[0;34m\"data/WILD_LIFE.csv\"\u001b[0m\u001b[0;34m,\u001b[0m  \u001b[0msep\u001b[0m\u001b[0;34m=\u001b[0m\u001b[0;34m','\u001b[0m\u001b[0;34m,\u001b[0m \u001b[0mencoding\u001b[0m \u001b[0;34m=\u001b[0m \u001b[0;34m'unicode_escape'\u001b[0m\u001b[0;34m)\u001b[0m\u001b[0;34m\u001b[0m\u001b[0;34m\u001b[0m\u001b[0m\n\u001b[0;32m----> 3\u001b[0;31m \u001b[0mdf_green\u001b[0m \u001b[0;34m=\u001b[0m \u001b[0mpd\u001b[0m\u001b[0;34m.\u001b[0m\u001b[0mread_csv\u001b[0m\u001b[0;34m(\u001b[0m\u001b[0;34m\"data/GREEN_GROWTH.csv\"\u001b[0m\u001b[0;34m,\u001b[0m \u001b[0msep\u001b[0m\u001b[0;34m=\u001b[0m\u001b[0;34m','\u001b[0m\u001b[0;34m,\u001b[0m \u001b[0mencoding\u001b[0m \u001b[0;34m=\u001b[0m \u001b[0;34m'unicode_escape'\u001b[0m\u001b[0;34m)\u001b[0m\u001b[0;34m\u001b[0m\u001b[0;34m\u001b[0m\u001b[0m\n\u001b[0m\u001b[1;32m      4\u001b[0m \u001b[0mdf_land_cover\u001b[0m \u001b[0;34m=\u001b[0m \u001b[0mpd\u001b[0m\u001b[0;34m.\u001b[0m\u001b[0mread_csv\u001b[0m\u001b[0;34m(\u001b[0m\u001b[0;34m\"data/LAND_COVER.csv\"\u001b[0m\u001b[0;34m,\u001b[0m \u001b[0msep\u001b[0m\u001b[0;34m=\u001b[0m\u001b[0;34m','\u001b[0m\u001b[0;34m,\u001b[0m \u001b[0mencoding\u001b[0m \u001b[0;34m=\u001b[0m \u001b[0;34m'unicode_escape'\u001b[0m\u001b[0;34m)\u001b[0m\u001b[0;34m\u001b[0m\u001b[0;34m\u001b[0m\u001b[0m\n\u001b[1;32m      5\u001b[0m \u001b[0mdf_land_use\u001b[0m \u001b[0;34m=\u001b[0m \u001b[0mpd\u001b[0m\u001b[0;34m.\u001b[0m\u001b[0mread_csv\u001b[0m\u001b[0;34m(\u001b[0m\u001b[0;34m\"data/LAND_USE.csv\"\u001b[0m\u001b[0;34m,\u001b[0m \u001b[0msep\u001b[0m\u001b[0;34m=\u001b[0m\u001b[0;34m','\u001b[0m\u001b[0;34m,\u001b[0m \u001b[0mencoding\u001b[0m \u001b[0;34m=\u001b[0m \u001b[0;34m'unicode_escape'\u001b[0m\u001b[0;34m)\u001b[0m\u001b[0;34m\u001b[0m\u001b[0;34m\u001b[0m\u001b[0m\n",
      "\u001b[0;32m/opt/conda/lib/python3.9/site-packages/pandas/util/_decorators.py\u001b[0m in \u001b[0;36mwrapper\u001b[0;34m(*args, **kwargs)\u001b[0m\n\u001b[1;32m    309\u001b[0m                     \u001b[0mstacklevel\u001b[0m\u001b[0;34m=\u001b[0m\u001b[0mstacklevel\u001b[0m\u001b[0;34m,\u001b[0m\u001b[0;34m\u001b[0m\u001b[0;34m\u001b[0m\u001b[0m\n\u001b[1;32m    310\u001b[0m                 )\n\u001b[0;32m--> 311\u001b[0;31m             \u001b[0;32mreturn\u001b[0m \u001b[0mfunc\u001b[0m\u001b[0;34m(\u001b[0m\u001b[0;34m*\u001b[0m\u001b[0margs\u001b[0m\u001b[0;34m,\u001b[0m \u001b[0;34m**\u001b[0m\u001b[0mkwargs\u001b[0m\u001b[0;34m)\u001b[0m\u001b[0;34m\u001b[0m\u001b[0;34m\u001b[0m\u001b[0m\n\u001b[0m\u001b[1;32m    312\u001b[0m \u001b[0;34m\u001b[0m\u001b[0m\n\u001b[1;32m    313\u001b[0m         \u001b[0;32mreturn\u001b[0m \u001b[0mwrapper\u001b[0m\u001b[0;34m\u001b[0m\u001b[0;34m\u001b[0m\u001b[0m\n",
      "\u001b[0;32m/opt/conda/lib/python3.9/site-packages/pandas/io/parsers/readers.py\u001b[0m in \u001b[0;36mread_csv\u001b[0;34m(filepath_or_buffer, sep, delimiter, header, names, index_col, usecols, squeeze, prefix, mangle_dupe_cols, dtype, engine, converters, true_values, false_values, skipinitialspace, skiprows, skipfooter, nrows, na_values, keep_default_na, na_filter, verbose, skip_blank_lines, parse_dates, infer_datetime_format, keep_date_col, date_parser, dayfirst, cache_dates, iterator, chunksize, compression, thousands, decimal, lineterminator, quotechar, quoting, doublequote, escapechar, comment, encoding, encoding_errors, dialect, error_bad_lines, warn_bad_lines, on_bad_lines, delim_whitespace, low_memory, memory_map, float_precision, storage_options)\u001b[0m\n\u001b[1;32m    584\u001b[0m     \u001b[0mkwds\u001b[0m\u001b[0;34m.\u001b[0m\u001b[0mupdate\u001b[0m\u001b[0;34m(\u001b[0m\u001b[0mkwds_defaults\u001b[0m\u001b[0;34m)\u001b[0m\u001b[0;34m\u001b[0m\u001b[0;34m\u001b[0m\u001b[0m\n\u001b[1;32m    585\u001b[0m \u001b[0;34m\u001b[0m\u001b[0m\n\u001b[0;32m--> 586\u001b[0;31m     \u001b[0;32mreturn\u001b[0m \u001b[0m_read\u001b[0m\u001b[0;34m(\u001b[0m\u001b[0mfilepath_or_buffer\u001b[0m\u001b[0;34m,\u001b[0m \u001b[0mkwds\u001b[0m\u001b[0;34m)\u001b[0m\u001b[0;34m\u001b[0m\u001b[0;34m\u001b[0m\u001b[0m\n\u001b[0m\u001b[1;32m    587\u001b[0m \u001b[0;34m\u001b[0m\u001b[0m\n\u001b[1;32m    588\u001b[0m \u001b[0;34m\u001b[0m\u001b[0m\n",
      "\u001b[0;32m/opt/conda/lib/python3.9/site-packages/pandas/io/parsers/readers.py\u001b[0m in \u001b[0;36m_read\u001b[0;34m(filepath_or_buffer, kwds)\u001b[0m\n\u001b[1;32m    480\u001b[0m \u001b[0;34m\u001b[0m\u001b[0m\n\u001b[1;32m    481\u001b[0m     \u001b[0;31m# Create the parser.\u001b[0m\u001b[0;34m\u001b[0m\u001b[0;34m\u001b[0m\u001b[0m\n\u001b[0;32m--> 482\u001b[0;31m     \u001b[0mparser\u001b[0m \u001b[0;34m=\u001b[0m \u001b[0mTextFileReader\u001b[0m\u001b[0;34m(\u001b[0m\u001b[0mfilepath_or_buffer\u001b[0m\u001b[0;34m,\u001b[0m \u001b[0;34m**\u001b[0m\u001b[0mkwds\u001b[0m\u001b[0;34m)\u001b[0m\u001b[0;34m\u001b[0m\u001b[0;34m\u001b[0m\u001b[0m\n\u001b[0m\u001b[1;32m    483\u001b[0m \u001b[0;34m\u001b[0m\u001b[0m\n\u001b[1;32m    484\u001b[0m     \u001b[0;32mif\u001b[0m \u001b[0mchunksize\u001b[0m \u001b[0;32mor\u001b[0m \u001b[0miterator\u001b[0m\u001b[0;34m:\u001b[0m\u001b[0;34m\u001b[0m\u001b[0;34m\u001b[0m\u001b[0m\n",
      "\u001b[0;32m/opt/conda/lib/python3.9/site-packages/pandas/io/parsers/readers.py\u001b[0m in \u001b[0;36m__init__\u001b[0;34m(self, f, engine, **kwds)\u001b[0m\n\u001b[1;32m    809\u001b[0m             \u001b[0mself\u001b[0m\u001b[0;34m.\u001b[0m\u001b[0moptions\u001b[0m\u001b[0;34m[\u001b[0m\u001b[0;34m\"has_index_names\"\u001b[0m\u001b[0;34m]\u001b[0m \u001b[0;34m=\u001b[0m \u001b[0mkwds\u001b[0m\u001b[0;34m[\u001b[0m\u001b[0;34m\"has_index_names\"\u001b[0m\u001b[0;34m]\u001b[0m\u001b[0;34m\u001b[0m\u001b[0;34m\u001b[0m\u001b[0m\n\u001b[1;32m    810\u001b[0m \u001b[0;34m\u001b[0m\u001b[0m\n\u001b[0;32m--> 811\u001b[0;31m         \u001b[0mself\u001b[0m\u001b[0;34m.\u001b[0m\u001b[0m_engine\u001b[0m \u001b[0;34m=\u001b[0m \u001b[0mself\u001b[0m\u001b[0;34m.\u001b[0m\u001b[0m_make_engine\u001b[0m\u001b[0;34m(\u001b[0m\u001b[0mself\u001b[0m\u001b[0;34m.\u001b[0m\u001b[0mengine\u001b[0m\u001b[0;34m)\u001b[0m\u001b[0;34m\u001b[0m\u001b[0;34m\u001b[0m\u001b[0m\n\u001b[0m\u001b[1;32m    812\u001b[0m \u001b[0;34m\u001b[0m\u001b[0m\n\u001b[1;32m    813\u001b[0m     \u001b[0;32mdef\u001b[0m \u001b[0mclose\u001b[0m\u001b[0;34m(\u001b[0m\u001b[0mself\u001b[0m\u001b[0;34m)\u001b[0m\u001b[0;34m:\u001b[0m\u001b[0;34m\u001b[0m\u001b[0;34m\u001b[0m\u001b[0m\n",
      "\u001b[0;32m/opt/conda/lib/python3.9/site-packages/pandas/io/parsers/readers.py\u001b[0m in \u001b[0;36m_make_engine\u001b[0;34m(self, engine)\u001b[0m\n\u001b[1;32m   1038\u001b[0m             )\n\u001b[1;32m   1039\u001b[0m         \u001b[0;31m# error: Too many arguments for \"ParserBase\"\u001b[0m\u001b[0;34m\u001b[0m\u001b[0;34m\u001b[0m\u001b[0m\n\u001b[0;32m-> 1040\u001b[0;31m         \u001b[0;32mreturn\u001b[0m \u001b[0mmapping\u001b[0m\u001b[0;34m[\u001b[0m\u001b[0mengine\u001b[0m\u001b[0;34m]\u001b[0m\u001b[0;34m(\u001b[0m\u001b[0mself\u001b[0m\u001b[0;34m.\u001b[0m\u001b[0mf\u001b[0m\u001b[0;34m,\u001b[0m \u001b[0;34m**\u001b[0m\u001b[0mself\u001b[0m\u001b[0;34m.\u001b[0m\u001b[0moptions\u001b[0m\u001b[0;34m)\u001b[0m  \u001b[0;31m# type: ignore[call-arg]\u001b[0m\u001b[0;34m\u001b[0m\u001b[0;34m\u001b[0m\u001b[0m\n\u001b[0m\u001b[1;32m   1041\u001b[0m \u001b[0;34m\u001b[0m\u001b[0m\n\u001b[1;32m   1042\u001b[0m     \u001b[0;32mdef\u001b[0m \u001b[0m_failover_to_python\u001b[0m\u001b[0;34m(\u001b[0m\u001b[0mself\u001b[0m\u001b[0;34m)\u001b[0m\u001b[0;34m:\u001b[0m\u001b[0;34m\u001b[0m\u001b[0;34m\u001b[0m\u001b[0m\n",
      "\u001b[0;32m/opt/conda/lib/python3.9/site-packages/pandas/io/parsers/c_parser_wrapper.py\u001b[0m in \u001b[0;36m__init__\u001b[0;34m(self, src, **kwds)\u001b[0m\n\u001b[1;32m     49\u001b[0m \u001b[0;34m\u001b[0m\u001b[0m\n\u001b[1;32m     50\u001b[0m         \u001b[0;31m# open handles\u001b[0m\u001b[0;34m\u001b[0m\u001b[0;34m\u001b[0m\u001b[0m\n\u001b[0;32m---> 51\u001b[0;31m         \u001b[0mself\u001b[0m\u001b[0;34m.\u001b[0m\u001b[0m_open_handles\u001b[0m\u001b[0;34m(\u001b[0m\u001b[0msrc\u001b[0m\u001b[0;34m,\u001b[0m \u001b[0mkwds\u001b[0m\u001b[0;34m)\u001b[0m\u001b[0;34m\u001b[0m\u001b[0;34m\u001b[0m\u001b[0m\n\u001b[0m\u001b[1;32m     52\u001b[0m         \u001b[0;32massert\u001b[0m \u001b[0mself\u001b[0m\u001b[0;34m.\u001b[0m\u001b[0mhandles\u001b[0m \u001b[0;32mis\u001b[0m \u001b[0;32mnot\u001b[0m \u001b[0;32mNone\u001b[0m\u001b[0;34m\u001b[0m\u001b[0;34m\u001b[0m\u001b[0m\n\u001b[1;32m     53\u001b[0m \u001b[0;34m\u001b[0m\u001b[0m\n",
      "\u001b[0;32m/opt/conda/lib/python3.9/site-packages/pandas/io/parsers/base_parser.py\u001b[0m in \u001b[0;36m_open_handles\u001b[0;34m(self, src, kwds)\u001b[0m\n\u001b[1;32m    220\u001b[0m         \u001b[0mLet\u001b[0m \u001b[0mthe\u001b[0m \u001b[0mreaders\u001b[0m \u001b[0mopen\u001b[0m \u001b[0mIOHandles\u001b[0m \u001b[0mafter\u001b[0m \u001b[0mthey\u001b[0m \u001b[0mare\u001b[0m \u001b[0mdone\u001b[0m \u001b[0;32mwith\u001b[0m \u001b[0mtheir\u001b[0m \u001b[0mpotential\u001b[0m \u001b[0mraises\u001b[0m\u001b[0;34m.\u001b[0m\u001b[0;34m\u001b[0m\u001b[0;34m\u001b[0m\u001b[0m\n\u001b[1;32m    221\u001b[0m         \"\"\"\n\u001b[0;32m--> 222\u001b[0;31m         self.handles = get_handle(\n\u001b[0m\u001b[1;32m    223\u001b[0m             \u001b[0msrc\u001b[0m\u001b[0;34m,\u001b[0m\u001b[0;34m\u001b[0m\u001b[0;34m\u001b[0m\u001b[0m\n\u001b[1;32m    224\u001b[0m             \u001b[0;34m\"r\"\u001b[0m\u001b[0;34m,\u001b[0m\u001b[0;34m\u001b[0m\u001b[0;34m\u001b[0m\u001b[0m\n",
      "\u001b[0;32m/opt/conda/lib/python3.9/site-packages/pandas/io/common.py\u001b[0m in \u001b[0;36mget_handle\u001b[0;34m(path_or_buf, mode, encoding, compression, memory_map, is_text, errors, storage_options)\u001b[0m\n\u001b[1;32m    700\u001b[0m         \u001b[0;32mif\u001b[0m \u001b[0mioargs\u001b[0m\u001b[0;34m.\u001b[0m\u001b[0mencoding\u001b[0m \u001b[0;32mand\u001b[0m \u001b[0;34m\"b\"\u001b[0m \u001b[0;32mnot\u001b[0m \u001b[0;32min\u001b[0m \u001b[0mioargs\u001b[0m\u001b[0;34m.\u001b[0m\u001b[0mmode\u001b[0m\u001b[0;34m:\u001b[0m\u001b[0;34m\u001b[0m\u001b[0;34m\u001b[0m\u001b[0m\n\u001b[1;32m    701\u001b[0m             \u001b[0;31m# Encoding\u001b[0m\u001b[0;34m\u001b[0m\u001b[0;34m\u001b[0m\u001b[0m\n\u001b[0;32m--> 702\u001b[0;31m             handle = open(\n\u001b[0m\u001b[1;32m    703\u001b[0m                 \u001b[0mhandle\u001b[0m\u001b[0;34m,\u001b[0m\u001b[0;34m\u001b[0m\u001b[0;34m\u001b[0m\u001b[0m\n\u001b[1;32m    704\u001b[0m                 \u001b[0mioargs\u001b[0m\u001b[0;34m.\u001b[0m\u001b[0mmode\u001b[0m\u001b[0;34m,\u001b[0m\u001b[0;34m\u001b[0m\u001b[0;34m\u001b[0m\u001b[0m\n",
      "\u001b[0;31mFileNotFoundError\u001b[0m: [Errno 2] No such file or directory: 'data/GREEN_GROWTH.csv'"
     ]
    }
   ],
   "source": [
    "# load all datasets\n",
    "df_animal = pd.read_csv(\"data/WILD_LIFE.csv\",  sep=',', encoding = 'unicode_escape')\n",
    "df_green = pd.read_csv(\"data/GREEN_GROWTH.csv\", sep=',', encoding = 'unicode_escape')\n",
    "df_land_cover = pd.read_csv(\"data/LAND_COVER.csv\", sep=',', encoding = 'unicode_escape')\n",
    "df_land_use = pd.read_csv(\"data/LAND_USE.csv\", sep=',', encoding = 'unicode_escape')\n",
    "df_ocean= pd.read_csv(\"data/OCEAN.csv\", sep=',', encoding = 'unicode_escape')\n",
    "df_protected = pd.read_csv(\"data/PROTECTED_AREAS.csv\", sep=',', encoding = 'unicode_escape')\n",
    "df_water = pd.read_csv(\"data/WATER_RESOURCES.csv\", sep=',', encoding = 'unicode_escape')"
   ]
  },
  {
   "cell_type": "code",
   "execution_count": null,
   "id": "9f179dce",
   "metadata": {},
   "outputs": [],
   "source": [
    "# reduce to countries where species information is available\n",
    "countries = df_animal[\"Country\"].unique()\n",
    "df_green = df_green[df_green[\"Country\"].isin(countries)]\n",
    "df_land_use = df_land_use[df_land_use[\"Country\"].isin(countries)]\n",
    "df_land_cover = df_land_cover[df_land_cover[\"Country\"].isin(countries)]\n",
    "df_ocean = df_ocean[df_ocean[\"Country\"].isin(countries)]\n",
    "df_protected = df_protected[df_protected[\"Country\"].isin(countries)]\n",
    "df_water = df_water[df_water[\"Country\"].isin(countries)]"
   ]
  },
  {
   "cell_type": "code",
   "execution_count": null,
   "id": "b20f6d0f",
   "metadata": {},
   "outputs": [],
   "source": [
    "# use only most recent information of each criteria (if some values are missing use cubic extrapolation to fill up)\n",
    "# Green growth\n",
    "green_data = []\n",
    "variables = df_green[\"VAR\"].unique()\n",
    "for var in variables:\n",
    "    max_year = df_green[\"Year\"][df_green[\"VAR\"] == var].max()\n",
    "    for country in countries:\n",
    "        temp = df_green[[\"Year\",\"Value\"]][(df_green[\"VAR\"] == var) & (df_green[\"Country\"] == country)]\n",
    "        if(max_year > temp[\"Year\"].max()):\n",
    "            temp = temp.append({'Year':max_year, 'Value':np.nan}, ignore_index = True)\n",
    "            temp[\"Year\"] = temp[\"Year\"].astype(int)\n",
    "            temp = temp.set_index(\"Year\")\n",
    "            def func(x, a, b, c, d):\n",
    "                return(a * (x**3) + b * (x**2) + c * x + d)\n",
    "            guess = (0.5,0.5,0.5,0.5)\n",
    "            fit_df = temp.dropna()\n",
    "            col_params = {}\n",
    "            for col in fit_df.columns:\n",
    "                # Get x & y\n",
    "                x = fit_df.index.astype(float).values\n",
    "                y = fit_df[col].values\n",
    "                # Curve fit column and get curve parameters\n",
    "                params = curve_fit(func, x, y, guess)\n",
    "                # Store optimized parameters\n",
    "                col_params[col] = params[0]\n",
    "            for col in temp.columns:\n",
    "                # Get the index values for NaNs in the column\n",
    "                x = temp[temp.isnull()].index.astype(float).values\n",
    "                # Extrapolate those points with the fitted function\n",
    "                temp[col][x] = func(x, *col_params[col])\n",
    "            # get last entry\n",
    "        value = temp.iloc[-1][\"Value\"]\n",
    "        green_data.append([max_year, country, var, value])"
   ]
  },
  {
   "cell_type": "code",
   "execution_count": null,
   "id": "9a999e89",
   "metadata": {},
   "outputs": [],
   "source": [
    "# land cover (we only use percent of total country area)\n",
    "land_cover_data = []\n",
    "variables = df_land_cover[\"VARIABLE\"][df_land_cover[\"MEAS\"] == \"PCNT\"].unique()\n",
    "df_land_cover = df_land_cover[df_land_cover[\"MEAS\"] == \"PCNT\"]\n",
    "for var in variables:\n",
    "    max_year = 2019\n",
    "    for country in countries:\n",
    "        temp = df_land_cover[[\"Year\",\"Value\"]][(df_land_cover[\"VARIABLE\"]==var)&(df_land_cover[\"Country\"]==country)]\n",
    "        temp = temp.set_index(\"Year\")\n",
    "        value = temp.iloc[-1][\"Value\"]\n",
    "        land_cover_data.append([max_year, country, var, value])"
   ]
  },
  {
   "cell_type": "code",
   "execution_count": null,
   "id": "e9d69a81",
   "metadata": {},
   "outputs": [],
   "source": [
    "# land use (again we only take the percentages into account)\n",
    "land_use_data = []\n",
    "df_land_use = df_land_use[df_land_use[\"Unit\"] == \"Percentage\"]\n",
    "variables = df_land_use['VAR'].unique()\n",
    "for var in variables:\n",
    "    max_year = 2019\n",
    "    for country in countries:\n",
    "        temp = df_land_use[[\"Year\",\"Value\"]][(df_land_use[\"VAR\"]==var)&(df_land_use[\"Country\"]==country)]\n",
    "        temp = temp.set_index(\"Year\")\n",
    "        if(len(temp) != 0):\n",
    "            value = temp.iloc[-1][\"Value\"]\n",
    "        else:\n",
    "            value = np.nan\n",
    "        land_use_data.append([max_year, country, var, value])"
   ]
  },
  {
   "cell_type": "code",
   "execution_count": null,
   "id": "b163e7be",
   "metadata": {},
   "outputs": [],
   "source": [
    "# protected area\n",
    "protected_data = []\n",
    "for country in countries:\n",
    "    max_year = df_protected[\"Year\"][df_protected[\"Country\"]==country].max()\n",
    "    temp = df_protected[[\"Year\",\"Value\"]][(df_protected[\"Country\"]==country)]\n",
    "    temp = temp.set_index(\"Year\")\n",
    "    if(len(temp) != 0):\n",
    "        value = temp.iloc[-1][\"Value\"]\n",
    "    else:\n",
    "        value = np.nan\n",
    "    protected_data.append([max_year, country, 'Percent of protected area', value])"
   ]
  },
  {
   "cell_type": "code",
   "execution_count": null,
   "id": "93ecb7fa",
   "metadata": {},
   "outputs": [],
   "source": [
    "# ocean\n",
    "ocean_data = []\n",
    "variables = df_ocean[\"VARIABLE\"].unique()\n",
    "for var in variables:\n",
    "    for country in countries:\n",
    "        max_year = df_ocean[\"Year\"][df_ocean[\"Country\"]==country].max()\n",
    "        temp = df_ocean[[\"Year\",\"Value\"]][(df_ocean[\"Country\"]==country)]\n",
    "        temp = temp.set_index(\"Year\")\n",
    "        if(len(temp) != 0):\n",
    "            value = temp.iloc[-1][\"Value\"]\n",
    "        else:\n",
    "            value = np.nan\n",
    "        ocean_data.append([max_year, country, var, value])"
   ]
  },
  {
   "cell_type": "code",
   "execution_count": null,
   "id": "eb523127",
   "metadata": {},
   "outputs": [],
   "source": [
    "# freshwater resources\n",
    "water_data = []\n",
    "variables = df_water[\"VAR\"].unique()\n",
    "for var in variables:\n",
    "    for country in countries:\n",
    "        max_year = df_water[\"Year\"][df_water[\"Country\"]==country].max()\n",
    "        temp = df_water[[\"Value\"]][(df_water[\"Country\"]==country)]\n",
    "        if(len(temp) != 0):\n",
    "            value = temp.iloc[-1][\"Value\"]\n",
    "        else:\n",
    "            value = np.nan\n",
    "        # the data is given as a long term average, for easier merging we append the current year\n",
    "        water_data.append([2022, country, var, value])"
   ]
  },
  {
   "cell_type": "code",
   "execution_count": null,
   "id": "ee6ac1c0",
   "metadata": {},
   "outputs": [],
   "source": [
    "# wildlife data\n",
    "def wildlife_data_gen(orig_df: pd.DataFrame, year: int):\n",
    "    output_data = []\n",
    "    df_reduced = orig_df.reset_index()\n",
    "    variables = df_reduced.columns[1:]\n",
    "    countries = df_reduced[\"Country\"].unique()\n",
    "    df_reduced = df_reduced.loc[df_reduced[\"Country\"].isin(countries)]\n",
    "    \n",
    "    for var in variables:\n",
    "        for country in countries:\n",
    "            temp = df_reduced[[var]][(df_reduced[\"Country\"]==country)]\n",
    "            if(len(temp) != 0):\n",
    "                value = temp.iloc[-1][var]\n",
    "            else:\n",
    "                value = np.nan\n",
    "            output_data.append([year, country, var, value])\n",
    "    return output_data\n",
    "\n",
    "# as mentioned in task 1, the data from WILD_LIFE.csv used is from 2021\n",
    "bird_data = wildlife_data_gen(df_birds_country, 2021)\n",
    "fish_data = wildlife_data_gen(df_fish_country, 2021)"
   ]
  },
  {
   "cell_type": "code",
   "execution_count": null,
   "id": "bcb6eeb6",
   "metadata": {},
   "outputs": [],
   "source": [
    "def data_merger(orig_list: list, countries: list):\n",
    "    output_df = pd.DataFrame()\n",
    "    variables = list({line[2] for line in orig_list})\n",
    "    output_df = pd.DataFrame(index = [countries], columns = [variables])\n",
    "    for line in orig_list:\n",
    "        output_df.at[str(line[1]), str(line[2])] = line[3]\n",
    "    return output_df"
   ]
  },
  {
   "cell_type": "markdown",
   "id": "74ca9052",
   "metadata": {},
   "source": [
    "Next, we will create the dataframes used for the next several operations. For this, we are first going to check if our data on fishes and birds is consistent on which countries are represented. This makes it easier for us to immediately dump countries that lack endangerment data."
   ]
  },
  {
   "cell_type": "code",
   "execution_count": null,
   "id": "e5664206",
   "metadata": {},
   "outputs": [],
   "source": [
    "countries_bird = list({line[1] for line in bird_data}) \n",
    "countries_fish = list({line[1] for line in fish_data})\n",
    "\n",
    "if countries_bird == countries_fish:\n",
    "    print(\"Fish and Bird data contain same countries.\")\n",
    "else:\n",
    "    print(\"Fish and Bird data do not contain the same countries.\")"
   ]
  },
  {
   "cell_type": "code",
   "execution_count": null,
   "id": "d75770eb",
   "metadata": {},
   "outputs": [],
   "source": [
    "# both datasets do not contain information on the same countries, hence we use different lists for both cycles.    \n",
    "# now, we merge all the data\n",
    "data_list = [water_data, ocean_data, protected_data, land_use_data, land_cover_data, green_data]\n",
    "\n",
    "data_dfs_fish = [data_merger(data, countries_fish) for data in data_list]\n",
    "data_dfs_bird = [data_merger(data, countries_bird) for data in data_list]\n",
    "\n",
    "df_fish = data_merger(fish_data, countries_fish)\n",
    "df_bird = data_merger(bird_data, countries_bird)"
   ]
  },
  {
   "cell_type": "markdown",
   "id": "d33e8d10",
   "metadata": {},
   "source": [
    "For now, we are going to create a dataframe holding every variable."
   ]
  },
  {
   "cell_type": "code",
   "execution_count": null,
   "id": "e9772dc7",
   "metadata": {},
   "outputs": [],
   "source": [
    "def df_full_gen(orig_df: pd.DataFrame, dfs: list):\n",
    "    output = orig_df\n",
    "    for df_name in dfs:\n",
    "        output = output.join(df_name)\n",
    "    return output\n",
    "\n",
    "df_fish_full = df_full_gen(df_fish, data_dfs_fish).sort_index()\n",
    "df_bird_full = df_full_gen(df_bird, data_dfs_bird).sort_index()"
   ]
  },
  {
   "cell_type": "code",
   "execution_count": null,
   "id": "64c21440",
   "metadata": {},
   "outputs": [],
   "source": [
    "display(df_fish_full.head())\n",
    "display(df_bird_full.head())"
   ]
  },
  {
   "cell_type": "code",
   "execution_count": null,
   "id": "2ef34d72",
   "metadata": {},
   "outputs": [],
   "source": [
    "# create a dictionary of parameters that is more easy to read\n",
    "def var_dict_gen(orig_df: pd.DataFrame, var_short: str, var_long: str):\n",
    "    var_s = orig_df[var_short].unique()\n",
    "    var_l = orig_df[var_long].unique()\n",
    "    return {var_1: var_2 for var_1, var_2 in zip(var_s, var_l)}\n",
    "\n",
    "land_cover_dict = var_dict_gen(df_land_cover, \"VARIABLE\", \"Land cover class\")\n",
    "green_dict = var_dict_gen(df_green, \"VAR\", \"Variable\")\n",
    "land_use_dict = var_dict_gen(df_land_use, \"VAR\", \"Variable\")\n",
    "water_dict = var_dict_gen(df_water, \"VAR\", \"Variable\")\n",
    "ocean_dict = var_dict_gen(df_ocean, \"VARIABLE\", \"Variable\")\n",
    "protected_dict = {\"Percent of protected area\": \"Percent of protected area\"}\n",
    "\n",
    "var_dict = {**land_cover_dict, **green_dict, **land_use_dict, **water_dict, **ocean_dict, **protected_dict}\n",
    "\n",
    "display(var_dict)"
   ]
  },
  {
   "cell_type": "code",
   "execution_count": null,
   "id": "dc5e0073",
   "metadata": {},
   "outputs": [],
   "source": []
  },
  {
   "cell_type": "code",
   "execution_count": null,
   "id": "78488c36",
   "metadata": {},
   "outputs": [],
   "source": []
  },
  {
   "cell_type": "code",
   "execution_count": null,
   "id": "ee302957",
   "metadata": {},
   "outputs": [],
   "source": []
  },
  {
   "cell_type": "code",
   "execution_count": null,
   "id": "9850f097",
   "metadata": {},
   "outputs": [],
   "source": []
  },
  {
   "cell_type": "code",
   "execution_count": null,
   "id": "92fe20c3",
   "metadata": {},
   "outputs": [],
   "source": [
    "df_bird = df_animal[df_animal['Species'] == \"Birds\"]\n",
    "df_fish = df_animal[df_animal['Species'] == \"Fish\"]"
   ]
  },
  {
   "cell_type": "code",
   "execution_count": null,
   "id": "5b2d13a3",
   "metadata": {},
   "outputs": [],
   "source": []
  },
  {
   "cell_type": "code",
   "execution_count": null,
   "id": "2f12974b",
   "metadata": {},
   "outputs": [],
   "source": []
  },
  {
   "cell_type": "code",
   "execution_count": null,
   "id": "ea88c99e",
   "metadata": {},
   "outputs": [],
   "source": []
  },
  {
   "cell_type": "code",
   "execution_count": null,
   "id": "c490a085",
   "metadata": {},
   "outputs": [],
   "source": []
  },
  {
   "cell_type": "code",
   "execution_count": null,
   "id": "06a52246",
   "metadata": {},
   "outputs": [],
   "source": []
  },
  {
   "cell_type": "markdown",
   "id": "062047eb",
   "metadata": {},
   "source": [
    "# Difficulties in analysing the data?"
   ]
  },
  {
   "cell_type": "markdown",
   "id": "3ce0f09f",
   "metadata": {},
   "source": [
    "# What were the key insights and potential biases?"
   ]
  }
 ],
 "metadata": {
  "kernelspec": {
   "display_name": "Python 3 (ipykernel)",
   "language": "python",
   "name": "python3"
  },
  "language_info": {
   "codemirror_mode": {
    "name": "ipython",
    "version": 3
   },
   "file_extension": ".py",
   "mimetype": "text/x-python",
   "name": "python",
   "nbconvert_exporter": "python",
   "pygments_lexer": "ipython3",
   "version": "3.9.7"
  }
 },
 "nbformat": 4,
 "nbformat_minor": 5
}
